{
 "cells": [
  {
   "cell_type": "markdown",
   "metadata": {
    "id": "rykO60mofpWR"
   },
   "source": [
    "# 1. 변수"
   ]
  },
  {
   "cell_type": "code",
   "execution_count": 2,
   "metadata": {},
   "outputs": [
    {
     "name": "stdout",
     "output_type": "stream",
     "text": [
      "홍길동\n"
     ]
    }
   ],
   "source": [
    "name = \"홍길동\"\n",
    "age = 20\n",
    "item_count = 15\n",
    "\n",
    "print(name)"
   ]
  },
  {
   "cell_type": "code",
   "execution_count": 3,
   "metadata": {},
   "outputs": [
    {
     "name": "stdout",
     "output_type": "stream",
     "text": [
      "20\n"
     ]
    }
   ],
   "source": [
    "print(age)"
   ]
  },
  {
   "cell_type": "code",
   "execution_count": 4,
   "metadata": {},
   "outputs": [
    {
     "name": "stdout",
     "output_type": "stream",
     "text": [
      "홍길동 20 15\n"
     ]
    }
   ],
   "source": [
    "print(name, age, item_count)"
   ]
  },
  {
   "cell_type": "code",
   "execution_count": 5,
   "metadata": {},
   "outputs": [
    {
     "name": "stdout",
     "output_type": "stream",
     "text": [
      "seoul busan\n"
     ]
    }
   ],
   "source": [
    "city = \"seoul\"\n",
    "City = \"busan\"\n",
    "\n",
    "print(city, City)"
   ]
  },
  {
   "cell_type": "markdown",
   "metadata": {
    "id": "wUlzBbEmfpWT"
   },
   "source": [
    "# 3. 자료형"
   ]
  },
  {
   "cell_type": "markdown",
   "metadata": {
    "id": "msOAV5snfpWU"
   },
   "source": [
    "## 1) 숫자형"
   ]
  },
  {
   "cell_type": "markdown",
   "metadata": {
    "id": "VNzBbeEefpWU"
   },
   "source": [
    "### (1) 표현"
   ]
  },
  {
   "cell_type": "code",
   "execution_count": 9,
   "metadata": {},
   "outputs": [
    {
     "name": "stdout",
     "output_type": "stream",
     "text": [
      "5 -1 0 10000\n"
     ]
    }
   ],
   "source": [
    "# 정수\n",
    "x = 5\n",
    "y = -1\n",
    "z = 0\n",
    "money = 10000\n",
    "\n",
    "print(x, y, z, money)"
   ]
  },
  {
   "cell_type": "code",
   "execution_count": 7,
   "metadata": {},
   "outputs": [
    {
     "name": "stdout",
     "output_type": "stream",
     "text": [
      "<class 'int'>\n"
     ]
    }
   ],
   "source": [
    "print(type(x))"
   ]
  },
  {
   "cell_type": "code",
   "execution_count": 10,
   "metadata": {},
   "outputs": [
    {
     "name": "stdout",
     "output_type": "stream",
     "text": [
      "3.141 -2.5 1e-11\n"
     ]
    }
   ],
   "source": [
    "# 실수\n",
    "a = 3.141\n",
    "b = -2.5\n",
    "c = 0.00000000001\n",
    "\n",
    "print (a, b, c)"
   ]
  },
  {
   "cell_type": "code",
   "execution_count": 11,
   "metadata": {},
   "outputs": [
    {
     "name": "stdout",
     "output_type": "stream",
     "text": [
      "12345678900.0 3e-05\n"
     ]
    }
   ],
   "source": [
    "x = 1.23456789e+10\n",
    "y = 3e-5\n",
    "\n",
    "print (x, y)"
   ]
  },
  {
   "cell_type": "code",
   "execution_count": 12,
   "metadata": {},
   "outputs": [
    {
     "name": "stdout",
     "output_type": "stream",
     "text": [
      "<class 'float'>\n"
     ]
    }
   ],
   "source": [
    "print(type(x))"
   ]
  },
  {
   "cell_type": "code",
   "execution_count": 13,
   "metadata": {},
   "outputs": [
    {
     "name": "stdout",
     "output_type": "stream",
     "text": [
      "<class 'float'>\n"
     ]
    }
   ],
   "source": [
    "z = 1.0\n",
    "\n",
    "print(type(z))"
   ]
  },
  {
   "cell_type": "markdown",
   "metadata": {
    "id": "qArKs0K3fpWU"
   },
   "source": [
    "### (2) 산술/복합 연산"
   ]
  },
  {
   "cell_type": "code",
   "execution_count": null,
   "metadata": {},
   "outputs": [
    {
     "name": "stdout",
     "output_type": "stream",
     "text": [
      "13\n",
      "7\n",
      "30\n",
      "3.3333333333333335\n",
      "3\n",
      "1\n",
      "1000\n"
     ]
    }
   ],
   "source": [
    "num1 = 10\n",
    "num2 = 3\n",
    "\n",
    "print(num1 + num2)\n",
    "print(num1 - num2)\n",
    "print(num1 * num2)\n",
    "print(num1 / num2)\n",
    "print(num1 // num2)\n",
    "print(num1 % num2)\n",
    "print(num1 ** num2)"
   ]
  },
  {
   "cell_type": "code",
   "execution_count": 16,
   "metadata": {},
   "outputs": [
    {
     "name": "stdout",
     "output_type": "stream",
     "text": [
      "<class 'float'>\n"
     ]
    }
   ],
   "source": [
    "num3 = 12 / 3\n",
    "\n",
    "print(type(num3))"
   ]
  },
  {
   "cell_type": "code",
   "execution_count": 17,
   "metadata": {},
   "outputs": [
    {
     "name": "stdout",
     "output_type": "stream",
     "text": [
      "4.0\n",
      "<class 'float'>\n"
     ]
    }
   ],
   "source": [
    "num1 = 12\n",
    "num2 = 3\n",
    "num3 = num1 / num2\n",
    "\n",
    "print(num3)\n",
    "print(type(num3))"
   ]
  },
  {
   "cell_type": "code",
   "execution_count": 19,
   "metadata": {},
   "outputs": [
    {
     "name": "stdout",
     "output_type": "stream",
     "text": [
      "내 잔고: 50000\n",
      "내 잔고: 70000\n",
      "내 잔고: 52000\n"
     ]
    }
   ],
   "source": [
    "money = 50000\n",
    "print(\"내 잔고:\", money)\n",
    "\n",
    "money += 20000\n",
    "print(\"내 잔고:\", money)\n",
    "\n",
    "money -= 18000\n",
    "print(\"내 잔고:\", money)"
   ]
  },
  {
   "cell_type": "markdown",
   "metadata": {
    "id": "5zVloo50fpWU"
   },
   "source": [
    "### (3) 예제"
   ]
  },
  {
   "cell_type": "markdown",
   "metadata": {
    "id": "xRKpBRBKfpWU"
   },
   "source": [
    "반복할 횟수 구하기: 100개의 게시물을 한 페이지에 30개씩 보여주려면 총 몇 페이지가 필요할까요?"
   ]
  },
  {
   "cell_type": "code",
   "execution_count": 29,
   "metadata": {
    "id": "tYff6S7DfpWV"
   },
   "outputs": [
    {
     "name": "stdout",
     "output_type": "stream",
     "text": [
      "답은 4 페이지 입니다.\n"
     ]
    }
   ],
   "source": [
    "post_page = 100\n",
    "post_per_page = 30\n",
    "\n",
    "page_num = post_page // post_per_page\n",
    "num_remain = 100 % 3\n",
    "\n",
    "if (num_remain == 0) :\n",
    "    print(\"답은\", page_num, \"페이지 입니다.\")\n",
    "else : \n",
    "    print(\"답은\", page_num + 1, \"페이지 입니다.\")"
   ]
  },
  {
   "cell_type": "markdown",
   "metadata": {
    "id": "6zj1iSwefpWV"
   },
   "source": [
    "출생년도가 1982일 때 홀수, 짝수 판단하기"
   ]
  },
  {
   "cell_type": "code",
   "execution_count": 28,
   "metadata": {
    "id": "A0Hb8prSfpWV"
   },
   "outputs": [
    {
     "name": "stdout",
     "output_type": "stream",
     "text": [
      "출생년도가 1982 일 때 이는 짝수 입니다.\n"
     ]
    }
   ],
   "source": [
    "num1 = 1982\n",
    "is_odd = num1 % 2\n",
    "\n",
    "if(is_odd == 0) :\n",
    "    print(\"출생년도가\", num1, \"일 때 이는 짝수 입니다.\")\n",
    "else :\n",
    "    print(\"출생년도가\", num1, \"일 때 이는 홀수 입니다.\")"
   ]
  },
  {
   "cell_type": "markdown",
   "metadata": {
    "id": "BxNz_w8zfpWV"
   },
   "source": [
    "## 2) ⭐ 문자열"
   ]
  },
  {
   "cell_type": "markdown",
   "metadata": {
    "id": "g5c456kQfpWV"
   },
   "source": [
    "### (1) 표현"
   ]
  },
  {
   "cell_type": "code",
   "execution_count": 30,
   "metadata": {},
   "outputs": [
    {
     "name": "stdout",
     "output_type": "stream",
     "text": [
      "안녕하세요\n",
      "<class 'str'>\n"
     ]
    }
   ],
   "source": [
    "message = \"안녕하세요\"\n",
    "print(message)\n",
    "print(type(message))"
   ]
  },
  {
   "cell_type": "code",
   "execution_count": 31,
   "metadata": {},
   "outputs": [
    {
     "name": "stdout",
     "output_type": "stream",
     "text": [
      "I'm hungry\n"
     ]
    }
   ],
   "source": [
    "message = \"I\\'m hungry\"\n",
    "print(message)"
   ]
  },
  {
   "cell_type": "code",
   "execution_count": 32,
   "metadata": {},
   "outputs": [
    {
     "name": "stdout",
     "output_type": "stream",
     "text": [
      "\"철수가 말했습니다\"\n"
     ]
    }
   ],
   "source": [
    "message = '\"철수가 말했습니다\"'\n",
    "print(message)"
   ]
  },
  {
   "cell_type": "code",
   "execution_count": 33,
   "metadata": {},
   "outputs": [
    {
     "name": "stdout",
     "output_type": "stream",
     "text": [
      "\"철수가 말했습니다\"\n"
     ]
    }
   ],
   "source": [
    "message = \"\\\"철수가 말했습니다\\\"\"\n",
    "print(message)"
   ]
  },
  {
   "cell_type": "code",
   "execution_count": 34,
   "metadata": {},
   "outputs": [
    {
     "name": "stdout",
     "output_type": "stream",
     "text": [
      "짜장면 너무 맛있어요\n",
      "여러분 꼭 사드세요\n",
      "완전 추천합니다.\n"
     ]
    }
   ],
   "source": [
    "review = \"\"\"짜장면 너무 맛있어요\n",
    "여러분 꼭 사드세요\n",
    "완전 추천합니다.\"\"\"\n",
    "print(review)"
   ]
  },
  {
   "cell_type": "markdown",
   "metadata": {
    "id": "toneTdjWfpWV"
   },
   "source": [
    "### (2) 연산"
   ]
  },
  {
   "cell_type": "code",
   "execution_count": null,
   "metadata": {},
   "outputs": [
    {
     "name": "stdout",
     "output_type": "stream",
     "text": [
      "안녕반가워\n"
     ]
    }
   ],
   "source": [
    "# +(결합)\n",
    "\n",
    "text1 = \"안녕\"\n",
    "text2 = \"반가워\"\n",
    "\n",
    "print(text1 + text2)"
   ]
  },
  {
   "cell_type": "code",
   "execution_count": 36,
   "metadata": {},
   "outputs": [
    {
     "name": "stdout",
     "output_type": "stream",
     "text": [
      "HelloHelloHello\n"
     ]
    }
   ],
   "source": [
    "# *(반복)\n",
    "\n",
    "text3 = \"Hello\"\n",
    "\n",
    "print(text3 * 3)"
   ]
  },
  {
   "cell_type": "code",
   "execution_count": 37,
   "metadata": {},
   "outputs": [
    {
     "name": "stdout",
     "output_type": "stream",
     "text": [
      "==================================================\n",
      "반복1 이 시작되었습니다.\n",
      "==================================================\n"
     ]
    }
   ],
   "source": [
    "# debug\n",
    "\n",
    "print(\"=\" * 50)\n",
    "print(\"반복1 이 시작되었습니다.\")\n",
    "print(\"=\" * 50)"
   ]
  },
  {
   "cell_type": "code",
   "execution_count": null,
   "metadata": {},
   "outputs": [
    {
     "name": "stdout",
     "output_type": "stream",
     "text": [
      "홍길동\n",
      "홍길동 \n"
     ]
    }
   ],
   "source": [
    "name1 = \"홍길동\"\n",
    "name2 = \"홍길동 \"\n",
    "\n",
    "print(name1)\n",
    "print(name2)"
   ]
  },
  {
   "cell_type": "code",
   "execution_count": 41,
   "metadata": {},
   "outputs": [
    {
     "name": "stdout",
     "output_type": "stream",
     "text": [
      "3\n",
      "4\n"
     ]
    }
   ],
   "source": [
    "print(len(name1))\n",
    "print(len(name2))"
   ]
  },
  {
   "cell_type": "markdown",
   "metadata": {
    "id": "hUBJ8gzffpWW"
   },
   "source": [
    "### (3) 인덱싱/슬라이싱"
   ]
  },
  {
   "cell_type": "markdown",
   "metadata": {
    "id": "y6mwyMTAfpWW"
   },
   "source": [
    "#### 슬라이싱"
   ]
  },
  {
   "cell_type": "markdown",
   "metadata": {
    "id": "pdb-uQGQfpWW"
   },
   "source": [
    "문제. 주민등번호 뒷자리에서 성별을 제외하고 *로 표시해주세요."
   ]
  },
  {
   "cell_type": "code",
   "execution_count": 43,
   "metadata": {
    "id": "d5Tm04Y7fpWW"
   },
   "outputs": [
    {
     "name": "stdout",
     "output_type": "stream",
     "text": [
      "010101-3*******\n"
     ]
    }
   ],
   "source": [
    "private_rec_num = \"010101-3123456\"\n",
    "print(private_rec_num[:8]+\"*******\")\n"
   ]
  },
  {
   "cell_type": "markdown",
   "metadata": {
    "id": "gATEkKPQfpWW"
   },
   "source": [
    "### (4) 문자열 포매팅(f-string)"
   ]
  },
  {
   "cell_type": "code",
   "execution_count": null,
   "metadata": {
    "id": "NYRqG_0QfpWW"
   },
   "outputs": [
    {
     "name": "stdout",
     "output_type": "stream",
     "text": [
      "{name}님 환영합니다.\n"
     ]
    }
   ],
   "source": [
    "name = \"김선재\"\n",
    "print(f\"{name}님 환영합니다.\")"
   ]
  },
  {
   "cell_type": "markdown",
   "metadata": {
    "id": "JeI53FmcfpWW"
   },
   "source": [
    "### (5) 관련 메서드"
   ]
  },
  {
   "cell_type": "markdown",
   "metadata": {
    "id": "2kO-FpdCfpWW"
   },
   "source": [
    "#### ⭐ 문자열 나누기(split)"
   ]
  },
  {
   "cell_type": "code",
   "execution_count": 49,
   "metadata": {
    "id": "UjuLhug4fpWW"
   },
   "outputs": [
    {
     "name": "stdout",
     "output_type": "stream",
     "text": [
      "['서울시', '관악구', '신림동']\n",
      "['강남구', '동작구', '노원구']\n"
     ]
    }
   ],
   "source": [
    "address1 = \"서울시 관악구 신림동\"\n",
    "address2 = \"강남구/동작구/노원구\"\n",
    "\n",
    "address1_list = address1.split(\" \")\n",
    "address2_list = address2.split(\"/\")\n",
    "\n",
    "print(address1_list)\n",
    "print(address2_list)"
   ]
  },
  {
   "cell_type": "markdown",
   "metadata": {
    "id": "O7SkuuYafpWW"
   },
   "source": [
    "예제. 파일 확장자 찾기"
   ]
  },
  {
   "cell_type": "code",
   "execution_count": 50,
   "metadata": {
    "id": "8HHL8hmKfpWW"
   },
   "outputs": [
    {
     "name": "stdout",
     "output_type": "stream",
     "text": [
      "txt\n",
      "ipynb\n",
      "json\n"
     ]
    }
   ],
   "source": [
    "file_name1 = \"data.txt\"\n",
    "file_name2 = \"test.ipynb\"\n",
    "file_name3 = \"time_stamp.json\"\n",
    "\n",
    "# 확장자 추출\n",
    "\n",
    "file_name1_ext = file_name1.split(\".\")[-1]\n",
    "file_name2_ext = file_name2.split(\".\")[-1]\n",
    "file_name3_ext = file_name3.split(\".\")[-1]\n",
    "\n",
    "print(file_name1_ext)\n",
    "print(file_name2_ext)\n",
    "print(file_name3_ext)"
   ]
  },
  {
   "cell_type": "markdown",
   "metadata": {
    "id": "9AbgJyKYfpWW"
   },
   "source": [
    "#### 문자열 대체(replace)"
   ]
  },
  {
   "cell_type": "code",
   "execution_count": 51,
   "metadata": {
    "id": "vdNBt5V5fpWW"
   },
   "outputs": [
    {
     "name": "stdout",
     "output_type": "stream",
     "text": [
      "peter@company.com\n"
     ]
    }
   ],
   "source": [
    "email = \"jason@company.com\"\n",
    "\n",
    "print(email.replace(\"jason\", \"peter\"))"
   ]
  },
  {
   "cell_type": "markdown",
   "metadata": {
    "id": "WcpA-035fpWW"
   },
   "source": [
    "#### 대/소문자 변환(lower, upper)"
   ]
  },
  {
   "cell_type": "code",
   "execution_count": 52,
   "metadata": {
    "id": "BtobhPadfpWW"
   },
   "outputs": [
    {
     "name": "stdout",
     "output_type": "stream",
     "text": [
      "mmffMFmf\n",
      "MMFFMFMF\n",
      "mmffmfmf\n"
     ]
    }
   ],
   "source": [
    "gender = \"mmffMFmf\"\n",
    "print(gender)\n",
    "print(gender.upper())\n",
    "print(gender.lower())"
   ]
  },
  {
   "cell_type": "markdown",
   "metadata": {
    "id": "9_t2Lzt6fpWW"
   },
   "source": [
    "#### 공백 제거(lstrip/rstrip/strip)"
   ]
  },
  {
   "cell_type": "code",
   "execution_count": 54,
   "metadata": {
    "id": "NSZRjfk2fpWW"
   },
   "outputs": [
    {
     "name": "stdout",
     "output_type": "stream",
     "text": [
      "    홍길동     \n",
      "|    홍길동     |\n",
      "|홍길동|\n",
      "|홍길동     |\n",
      "|    홍길동|\n"
     ]
    }
   ],
   "source": [
    "name1 = \"    홍길동     \"\n",
    "\n",
    "print(name1)\n",
    "print(f\"|{name1}|\")\n",
    "print(f\"|{name1.strip()}|\")\n",
    "print(f\"|{name1.lstrip()}|\")\n",
    "print(f\"|{name1.rstrip()}|\")"
   ]
  },
  {
   "cell_type": "markdown",
   "metadata": {
    "id": "MDmVNNmlfpWX"
   },
   "source": [
    "#### 카운트 세기(count)"
   ]
  },
  {
   "cell_type": "code",
   "execution_count": 56,
   "metadata": {
    "id": "4OabxfPpfpWX"
   },
   "outputs": [
    {
     "name": "stdout",
     "output_type": "stream",
     "text": [
      "3\n",
      "4\n"
     ]
    }
   ],
   "source": [
    "gender = \"mmffMFmf\"\n",
    "gender2 = gender.lower()\n",
    "\n",
    "print(gender.count(\"m\"))\n",
    "print(gender2.count(\"m\"))\n"
   ]
  },
  {
   "cell_type": "markdown",
   "metadata": {
    "id": "TcBsq-A4fpWX"
   },
   "source": [
    "예제. 리뷰\n",
    "\n",
    "짬뽕은 정말 맵고 맛있었어요. 해산물이 가득 들어가서 만족했습니다.\n",
    "짜장면은 이 집에서 먹어본 것 중 가장 맛있었어요\n",
    "짜장면 굿"
   ]
  },
  {
   "cell_type": "code",
   "execution_count": 68,
   "metadata": {
    "id": "dU5G3cEufpWX"
   },
   "outputs": [
    {
     "name": "stdout",
     "output_type": "stream",
     "text": [
      "짜장에 대한 리뷰수는 2 개 입니다.\n",
      "짬뽕에 대한 리뷰수는 1 개 입니다.\n"
     ]
    }
   ],
   "source": [
    "review = \"\"\"짬뽕은 정말 맵고 맛있었어요. 해산물이 가득 들어가서 만족했습니다.\n",
    "짜장면은 이 집에서 먹어본 것 중 가장 맛있었어요\n",
    "짜장면 굿\"\"\"\n",
    "\n",
    "keyword1 = \"짜장\"\n",
    "keyword2 = \"짬뽕\"\n",
    "print(f\"짜장에 대한 리뷰수는 {review.count(keyword1)} 개 입니다.\")\n",
    "print(f\"짬뽕에 대한 리뷰수는 {review.count(keyword2)} 개 입니다.\")"
   ]
  },
  {
   "cell_type": "markdown",
   "metadata": {
    "id": "32pY-NGFfpWX"
   },
   "source": [
    "## 3) 리스트(List)"
   ]
  },
  {
   "cell_type": "markdown",
   "metadata": {
    "id": "wZ5yZQH-fpWX"
   },
   "source": [
    "### (1) 표현"
   ]
  },
  {
   "cell_type": "code",
   "execution_count": 2,
   "metadata": {
    "id": "HA86_T3JfpWX"
   },
   "outputs": [
    {
     "name": "stdout",
     "output_type": "stream",
     "text": [
      "[]\n",
      "<class 'list'>\n"
     ]
    }
   ],
   "source": [
    "# 정수 int 실수 float 문자열 str 리스트 list 튜플 tuple 딕셔너리 dict 집합 set 불 bool\n",
    "\n",
    "mylist = []\n",
    "print(mylist)\n",
    "print(type(mylist))"
   ]
  },
  {
   "cell_type": "code",
   "execution_count": null,
   "metadata": {},
   "outputs": [],
   "source": [
    "jan = 20000\n",
    "feb = 5000\n",
    "mar = 30000\n",
    "\n",
    "money = jan + feb + mar\n"
   ]
  },
  {
   "cell_type": "code",
   "execution_count": 3,
   "metadata": {},
   "outputs": [
    {
     "name": "stdout",
     "output_type": "stream",
     "text": [
      "47000\n"
     ]
    }
   ],
   "source": [
    "money2025 = [2000, 40000, 5000]\n",
    "print(sum(money2025))"
   ]
  },
  {
   "cell_type": "code",
   "execution_count": 4,
   "metadata": {},
   "outputs": [
    {
     "name": "stdout",
     "output_type": "stream",
     "text": [
      "[1, 2, 3, '가', ['A', 'B', 'C', 1, True], (1, 2), {'Key': 'Value'}]\n"
     ]
    }
   ],
   "source": [
    "mylist = [1, 2, 3, \"가\", [\"A\", \"B\", \"C\", 1, True], (1, 2), {\"Key\" : \"Value\"}]\n",
    "print(mylist)\n"
   ]
  },
  {
   "cell_type": "markdown",
   "metadata": {
    "id": "MJ0aiHRifpWX"
   },
   "source": [
    "### (2) 인덱싱/슬라이싱"
   ]
  },
  {
   "cell_type": "markdown",
   "metadata": {
    "id": "-4z5eF4FfpWX"
   },
   "source": [
    "#### 인덱싱"
   ]
  },
  {
   "cell_type": "code",
   "execution_count": 6,
   "metadata": {},
   "outputs": [
    {
     "name": "stdout",
     "output_type": "stream",
     "text": [
      "7\n"
     ]
    }
   ],
   "source": [
    "text = \"가나다라마바사\"\n",
    "print(len(text))"
   ]
  },
  {
   "cell_type": "code",
   "execution_count": 7,
   "metadata": {},
   "outputs": [
    {
     "name": "stdout",
     "output_type": "stream",
     "text": [
      "[['홍길동', 30], ['박영희', 22], ['김철수', 25]]\n",
      "3\n"
     ]
    }
   ],
   "source": [
    "data = [['홍길동', 30], ['박영희', 22], ['김철수', 25]]\n",
    "print(data)\n",
    "print(len(data))"
   ]
  },
  {
   "cell_type": "code",
   "execution_count": 9,
   "metadata": {},
   "outputs": [
    {
     "name": "stdout",
     "output_type": "stream",
     "text": [
      "['박영희', 22]\n",
      "22\n"
     ]
    }
   ],
   "source": [
    "# index\n",
    "\n",
    "print(data[1])\n",
    "\n",
    "print(data[1][1])"
   ]
  },
  {
   "cell_type": "markdown",
   "metadata": {
    "id": "FYU_bl_6fpWb"
   },
   "source": [
    "#### 슬라이싱"
   ]
  },
  {
   "cell_type": "code",
   "execution_count": 27,
   "metadata": {},
   "outputs": [
    {
     "name": "stdout",
     "output_type": "stream",
     "text": [
      "['bread', 'coke', 'pizza', 'pasta']\n"
     ]
    }
   ],
   "source": [
    "# 뒤에서부터 차례로 추출\n",
    "\n",
    "orders = [\"pasta\", \"pizza\", \"coke\", \"bread\"]\n",
    "\n",
    "print(orders[::-1])"
   ]
  },
  {
   "cell_type": "markdown",
   "metadata": {
    "id": "M5-urS5_fpWb"
   },
   "source": [
    "예제.\n",
    "\n",
    "```\n",
    "data = [25, \"apple\", 3.13, [\"dog\", \"cat\", \"rabbit\"]]\n",
    "```\n",
    "\n",
    "* \"cat\" 출력"
   ]
  },
  {
   "cell_type": "code",
   "execution_count": 10,
   "metadata": {
    "id": "CQTMPPw-fpWb"
   },
   "outputs": [
    {
     "name": "stdout",
     "output_type": "stream",
     "text": [
      "cat\n"
     ]
    }
   ],
   "source": [
    "data = [25, \"apple\", 3.13, [\"dog\", \"cat\", \"rabbit\"]]\n",
    "print(data[3][1])"
   ]
  },
  {
   "cell_type": "markdown",
   "metadata": {
    "id": "aG4ATJ-HfpWb"
   },
   "source": [
    "예제.\n",
    "\n",
    "```\n",
    "data = [25, 'apple', 3.13, ['dog', 'cat', 'rabbit']]\n",
    "```\n",
    "\n",
    "* ['dog', 'cat'] 출력"
   ]
  },
  {
   "cell_type": "code",
   "execution_count": 11,
   "metadata": {
    "id": "9UwRH5WafpWb"
   },
   "outputs": [
    {
     "name": "stdout",
     "output_type": "stream",
     "text": [
      "['dog', 'cat']\n"
     ]
    }
   ],
   "source": [
    "data = [25, 'apple', 3.13, ['dog', 'cat', 'rabbit']]\n",
    "print(data[3][:2])"
   ]
  },
  {
   "cell_type": "markdown",
   "metadata": {
    "id": "1I_5wkFhfpWb"
   },
   "source": [
    "### (2) 연산"
   ]
  },
  {
   "cell_type": "markdown",
   "metadata": {
    "id": "ESRph4l8fpWc"
   },
   "source": [
    "#### 덧셈"
   ]
  },
  {
   "cell_type": "code",
   "execution_count": 12,
   "metadata": {},
   "outputs": [
    {
     "name": "stdout",
     "output_type": "stream",
     "text": [
      "[1, 2, 3, 'A', 'B']\n"
     ]
    }
   ],
   "source": [
    "# 덧셈 (결합)\n",
    "\n",
    "data1 = [1, 2, 3]\n",
    "data2 = [\"A\", \"B\"]\n",
    "\n",
    "result = data1 + data2\n",
    "print(result)"
   ]
  },
  {
   "cell_type": "code",
   "execution_count": 15,
   "metadata": {},
   "outputs": [
    {
     "name": "stdout",
     "output_type": "stream",
     "text": [
      "[10, 0, 3, 2, 2, 50, 23, 29]\n",
      "119\n"
     ]
    }
   ],
   "source": [
    "jan_money = [10, 0, 3, 2]\n",
    "feb_money = [2, 50, 23, 29]\n",
    "\n",
    "total_money = jan_money + feb_money\n",
    "print(total_money)\n",
    "print(sum(total_money))"
   ]
  },
  {
   "cell_type": "markdown",
   "metadata": {
    "id": "BbGZBaetfpWc"
   },
   "source": [
    "#### 곱셈"
   ]
  },
  {
   "cell_type": "code",
   "execution_count": 13,
   "metadata": {},
   "outputs": [
    {
     "name": "stdout",
     "output_type": "stream",
     "text": [
      "[1, 2, 3, 1, 2, 3, 1, 2, 3]\n"
     ]
    }
   ],
   "source": [
    "data = [1, 2, 3]\n",
    "\n",
    "result = data * 3\n",
    "print(result)"
   ]
  },
  {
   "cell_type": "markdown",
   "metadata": {
    "id": "qpxQzhmbfpWc"
   },
   "source": [
    "### (3) range"
   ]
  },
  {
   "cell_type": "code",
   "execution_count": 16,
   "metadata": {},
   "outputs": [
    {
     "name": "stdout",
     "output_type": "stream",
     "text": [
      "range(0, 4)\n",
      "<class 'range'>\n"
     ]
    }
   ],
   "source": [
    "# 연속된 숫자를 리스트로 만들고 싶어요\n",
    "\n",
    "num_list = range(4)\n",
    "\n",
    "print(num_list)\n",
    "print(type(num_list))\n"
   ]
  },
  {
   "cell_type": "code",
   "execution_count": 17,
   "metadata": {},
   "outputs": [
    {
     "name": "stdout",
     "output_type": "stream",
     "text": [
      "[0, 1, 2, 3]\n",
      "<class 'list'>\n"
     ]
    }
   ],
   "source": [
    "num_list = list(range(4))\n",
    "\n",
    "print(num_list)\n",
    "print(type(num_list))"
   ]
  },
  {
   "cell_type": "code",
   "execution_count": 23,
   "metadata": {},
   "outputs": [
    {
     "name": "stdout",
     "output_type": "stream",
     "text": [
      "[3, 4, 5, 6, 7, 8, 9]\n",
      "[1, 3, 5, 7, 9]\n",
      "[5, 4, 3, 2, 1, 0]\n"
     ]
    }
   ],
   "source": [
    "# 3부터 9까지의 범위를 리스트로 출력하고 싶어요\n",
    "test_list1 = list(range(3,10))\n",
    "print(test_list1)\n",
    "\n",
    "# 1에서 10까지 홀수만 출력하고 싶어요\n",
    "test_list2 = list(range(1,11,2))\n",
    "print(test_list2)\n",
    "\n",
    "# 0에서 5까지의 범위를 거꾸로 출력하고 싶어요\n",
    "test_list3 = list(range(5,-1,-1))\n",
    "print(test_list3)"
   ]
  },
  {
   "cell_type": "markdown",
   "metadata": {
    "id": "cUcxDoQtfpWc"
   },
   "source": [
    "### (4) 수정/추가/삭제"
   ]
  },
  {
   "cell_type": "markdown",
   "metadata": {
    "id": "eYSBz_UVfpWc"
   },
   "source": [
    "#### 수정"
   ]
  },
  {
   "cell_type": "code",
   "execution_count": 42,
   "metadata": {},
   "outputs": [
    {
     "name": "stdout",
     "output_type": "stream",
     "text": [
      "[0, 1, 2, 3, 4, 5, 6, 7]\n",
      "1\n",
      "일\n",
      "5\n",
      "오\n",
      "[0, '일', 'two', 'three', 4, '오', 6, 7]\n",
      "[0, '일', 'two', '하하하', '하하하', '하하하', '하하하', '하하하']\n",
      "[10, 10, 10, 10, '하하하', '하하하', '하하하', '하하하']\n"
     ]
    }
   ],
   "source": [
    "# 0에서 7까지의 범위를 리스트로 출력\n",
    "num_list = list(range(8))\n",
    "print(num_list)\n",
    "\n",
    "# 1번째 값을 '일' 로 바꾸기\n",
    "print(num_list[1])\n",
    "num_list[1] = '일'\n",
    "print(num_list[1])\n",
    "\n",
    "# 5번째 값을 '오' 로 바꾸기\n",
    "print(num_list[5])\n",
    "num_list[5] = '오'\n",
    "print(num_list[5])\n",
    "\n",
    "# 2번째에서 3번째까지의 값을 영어로 바꾸기\n",
    "num_list[2:4] = ['two', 'three']\n",
    "print(num_list)\n",
    "\n",
    "# 3번째에서 끝까지 데이터를 \"하하하\"로 바꾸기\n",
    "num_list[3:] = [\"하하하\"] * len(num_list[3:])\n",
    "print(num_list)\n",
    "\n",
    "# 처음부터 3번째까지의 데이터를 10으로 바꾸기\n",
    "num_list[:4] = [10] * len(num_list[:4])\n",
    "print(num_list)"
   ]
  },
  {
   "cell_type": "markdown",
   "metadata": {
    "id": "gESOTUWxfpWc"
   },
   "source": [
    "#### 추가"
   ]
  },
  {
   "cell_type": "code",
   "execution_count": null,
   "metadata": {},
   "outputs": [
    {
     "name": "stdout",
     "output_type": "stream",
     "text": [
      "[0, 1, 2, 3, 4]\n",
      "[0, 1, 2, 3, 4, 5]\n",
      "[0, 1, 2, 3, 4, 5, 1, 2, 3]\n",
      "[0, 1, 2, 3, 4, 5, 1, 2, 3, [1, 2, 3, 4, 5]]\n",
      "[0, 1, 2, 3, 4, 5, 1, 2, 3, [1, 2, 3, 4, 5], 1, 2, 3, 4, 5]\n"
     ]
    }
   ],
   "source": [
    "data = list(range(5))\n",
    "print(data)\n",
    "\n",
    "# 데이터 한 개 추가\n",
    "data += [5]\n",
    "print(data)\n",
    "\n",
    "\n",
    "# 데이터 한 번 추가 ([1, 2, 3]를 추가)\n",
    "data += [1, 2, 3]\n",
    "print(data)\n",
    "\n",
    "# 데이터 한 개 추가 ([1, 2, 3, 4, 5]를 추가)\n",
    "data.append([1, 2, 3, 4, 5])\n",
    "print(data)\n",
    "\n",
    "# 데이터 여러 개 추가\n",
    "data.extend([1, 2, 3, 4, 5])\n",
    "print(data)"
   ]
  },
  {
   "cell_type": "markdown",
   "metadata": {},
   "source": [
    "#### 삽입"
   ]
  },
  {
   "cell_type": "code",
   "execution_count": 51,
   "metadata": {},
   "outputs": [
    {
     "name": "stdout",
     "output_type": "stream",
     "text": [
      "[10, 20, 30]\n",
      "[10, 20, 40, 30]\n"
     ]
    }
   ],
   "source": [
    "# insert(위치, 값) : 위치에 값을 추가한다.\n",
    "\n",
    "num_list = [10, 20, 30]\n",
    "print(num_list)\n",
    "\n",
    "num_list.insert(2, 40)\n",
    "print(num_list)"
   ]
  },
  {
   "cell_type": "markdown",
   "metadata": {
    "id": "bJ4Jr4egfpWc"
   },
   "source": [
    "#### 삭제"
   ]
  },
  {
   "cell_type": "code",
   "execution_count": null,
   "metadata": {},
   "outputs": [
    {
     "name": "stdout",
     "output_type": "stream",
     "text": [
      "[0, 10, 20, 30, 40, 50, 60, 70, 80, 90]\n",
      "[0, 10, 20, 40, 50, 60, 70, 80, 90]\n",
      "[0, 10, 20, 40, 50, 60, 70, 90]\n",
      "[0, 10, 20, 40, 50]\n",
      "50\n"
     ]
    }
   ],
   "source": [
    "num_list = list(range(0, 100, 10))\n",
    "print(num_list)\n",
    "\n",
    "# 3번째 데이터를 삭제해주세요 (del 이용)\n",
    "del num_list[3]\n",
    "print(num_list)\n",
    "\n",
    "# 7번째 데이터를 삭제해주세요 (remove 이용)\n",
    "num_list.remove(80)\n",
    "print(num_list)\n",
    "\n",
    "# 뒤에서 3번째부터 끝까지 데이터를 삭제해주세요\n",
    "num_list[-3:] = []\n",
    "print(num_list)\n",
    "\n",
    "# 맨 뒤에 있는 데이터를 삭제하고 그 값을 출력해주세요 (pop 이용)\n",
    "print(num_list.pop())"
   ]
  },
  {
   "cell_type": "markdown",
   "metadata": {
    "id": "3jw2_iXffpWc"
   },
   "source": [
    "예제. 게시물 코드\n",
    "\n",
    "```\n",
    "post_data = [\"ID001\", \"ID002\", \"ID003\", \"ID004\", \"ID005\"]\n",
    "```"
   ]
  },
  {
   "cell_type": "code",
   "execution_count": 2,
   "metadata": {
    "id": "TTVODq-pfpWc"
   },
   "outputs": [
    {
     "name": "stdout",
     "output_type": "stream",
     "text": [
      "ID003\n",
      "['ID001', 'ID002', 'ID004', 'ID005']\n",
      "['ID003']\n"
     ]
    }
   ],
   "source": [
    "# \"ID003\" 데이터에 오류가 생겼다.\n",
    "# 오류가 생긴 데이터는 삭제하고 error_data 에 담아주세요\n",
    "\n",
    "post_data = [\"ID001\", \"ID002\", \"ID003\", \"ID004\", \"ID005\"]\n",
    "pop_data = post_data.pop(2)\n",
    "print(pop_data)\n",
    "print(post_data)\n",
    "\n",
    "error_data = []\n",
    "error_data.append(pop_data)\n",
    "print(error_data)"
   ]
  },
  {
   "cell_type": "markdown",
   "metadata": {},
   "source": [
    "* append / extend 차이 알기\n",
    "\n",
    "인스타그램 태그 수집기 \n",
    "\n",
    "post1 : #헬스, #단백질\n",
    "\n",
    "post2 : #닭가슴살, #다이어트, #단백질\n",
    "\n",
    "post3 : #요요, #헬스, #다이어트\n",
    "\n",
    "post4 : #닭가슴살, #단백질\n",
    "\n",
    "문제 1. 인스타그램 포스트별로 데이터를 수집하고 싶다\n",
    "\n",
    "문제 2. 모든 해시태그들을 tags라는 변수에 담고 싶다\n",
    "\n",
    "문제 3. 해시태그 카테고리가 몇 개인지 알고 싶다"
   ]
  },
  {
   "cell_type": "code",
   "execution_count": null,
   "metadata": {},
   "outputs": [
    {
     "ename": "KeyError",
     "evalue": "\"['#헬스', '#단백질']\"",
     "output_type": "error",
     "traceback": [
      "\u001b[1;31m---------------------------------------------------------------------------\u001b[0m",
      "\u001b[1;31mKeyError\u001b[0m                                  Traceback (most recent call last)",
      "Cell \u001b[1;32mIn[7], line 9\u001b[0m\n\u001b[0;32m      7\u001b[0m part1_dict \u001b[38;5;241m=\u001b[39m {}\n\u001b[0;32m      8\u001b[0m \u001b[38;5;28;01mfor\u001b[39;00m keys \u001b[38;5;129;01min\u001b[39;00m posts :\n\u001b[1;32m----> 9\u001b[0m     \u001b[43mpart1_dict\u001b[49m\u001b[43m[\u001b[49m\u001b[38;5;28;43mstr\u001b[39;49m\u001b[43m(\u001b[49m\u001b[43mkeys\u001b[49m\u001b[43m)\u001b[49m\u001b[43m]\u001b[49m\n\u001b[0;32m     10\u001b[0m \u001b[38;5;28mprint\u001b[39m(part1_dict)\n\u001b[0;32m     12\u001b[0m tags \u001b[38;5;241m=\u001b[39m []\n",
      "\u001b[1;31mKeyError\u001b[0m: \"['#헬스', '#단백질']\""
     ]
    }
   ],
   "source": [
    "post1 = [\"#헬스\", \"#단백질\"]\n",
    "post2 = [\"#닭가슴살\", \"#다이어트\", \"#단백질\"]\n",
    "post3 = [\"#요요\", \"#헬스\", \"#다이어트\"]\n",
    "post4 = [\"#닭가슴살\", \"#단백질\"]\n",
    "posts = [post1, post2, post3, post4]\n",
    "\n",
    "part1_dict = {}\n",
    "part1_dict[\"post1\"] = post1\n",
    "part1_dict[\"post2\"] = post2\n",
    "part1_dict[\"post3\"] = post3\n",
    "part1_dict[\"post4\"] = post4\n",
    "print(part1_dict)\n",
    "\n",
    "tags = []\n",
    "for keys in part1_dict.keys() :\n",
    "    tags.extend()\n",
    "print(tags)\n",
    "\n",
    "tags_category = set(tags)\n",
    "print(tags_category)"
   ]
  },
  {
   "cell_type": "markdown",
   "metadata": {
    "id": "nzrEdhKXfpWc"
   },
   "source": [
    "## 4) 튜플(Tuple)"
   ]
  },
  {
   "cell_type": "markdown",
   "metadata": {
    "id": "k6jpRXd8fpWc"
   },
   "source": [
    "### (1) 표현"
   ]
  },
  {
   "cell_type": "code",
   "execution_count": 5,
   "metadata": {},
   "outputs": [
    {
     "name": "stdout",
     "output_type": "stream",
     "text": [
      "<class 'tuple'>\n"
     ]
    }
   ],
   "source": [
    "# 빈 튜플 만들기\n",
    "blank_tuple = ()\n",
    "\n",
    "# 튜플 데이터의 타입 출력하기\n",
    "print(type(blank_tuple))"
   ]
  },
  {
   "cell_type": "code",
   "execution_count": 8,
   "metadata": {},
   "outputs": [
    {
     "name": "stdout",
     "output_type": "stream",
     "text": [
      "(10,)\n",
      "<class 'tuple'>\n"
     ]
    }
   ],
   "source": [
    "# 요소가 1개인 튜플 만들기 (데이터 10)\n",
    "data_tuple = (10,)\n",
    "print(data_tuple)\n",
    "print(type(data_tuple))"
   ]
  },
  {
   "cell_type": "code",
   "execution_count": null,
   "metadata": {},
   "outputs": [],
   "source": [
    "# 수정 불가\n",
    "\n",
    "fruits = (\"사과\", \"오렌지\", \"포도\")\n",
    "fruits[1] = \"멜론\"\n",
    "print(fruits)"
   ]
  },
  {
   "cell_type": "code",
   "execution_count": null,
   "metadata": {},
   "outputs": [],
   "source": [
    "# 삭제 불가\n",
    "\n",
    "fruits = (\"사과\", \"오렌지\", \"포도\")\n",
    "del fruits[1]\n",
    "print(fruits)"
   ]
  },
  {
   "cell_type": "code",
   "execution_count": null,
   "metadata": {},
   "outputs": [],
   "source": [
    "# 추가 불가\n",
    "\n",
    "fruits = (\"사과\", \"오렌지\", \"포도\")\n",
    "fruits.append(\"멜론\")\n",
    "print(fruits)"
   ]
  },
  {
   "cell_type": "markdown",
   "metadata": {
    "id": "bCZYM_W2fpWc"
   },
   "source": [
    "## 5) 딕셔너리(Dictionary)"
   ]
  },
  {
   "cell_type": "markdown",
   "metadata": {
    "id": "iQ82NPU1fpWc"
   },
   "source": [
    "### (1) 표현"
   ]
  },
  {
   "cell_type": "code",
   "execution_count": null,
   "metadata": {},
   "outputs": [
    {
     "name": "stdout",
     "output_type": "stream",
     "text": [
      "{'name': '김선재', 'gender': 'M', 'age': 12}\n",
      "김선재\n",
      "<class 'dict'>\n"
     ]
    }
   ],
   "source": [
    "# 딕셔너리 만들기\n",
    "blank_dict = {'name' : \"김선재\", \n",
    "            'gender' : \"M\",\n",
    "            'age' : 12}\n",
    "\n",
    "# 딕셔너리 타입, 출력\n",
    "print(blank_dict)\n",
    "print(blank_dict['name'])\n",
    "print(type(blank_dict))"
   ]
  },
  {
   "cell_type": "code",
   "execution_count": 15,
   "metadata": {},
   "outputs": [
    {
     "name": "stdout",
     "output_type": "stream",
     "text": [
      "{'이름': ['홍길동', '최수연', '김철수'], '성적': [68, 44, 90]}\n",
      "{'홍길동': 68, '최수연': 44, '김철수': 90}\n"
     ]
    }
   ],
   "source": [
    "score_data1 = {\n",
    "    \"이름\" : [\"홍길동\", \"최수연\", \"김철수\"],\n",
    "    \"성적\" : [68, 44, 90]\n",
    "}\n",
    "score_data2 = {\n",
    "    \"홍길동\" : 68, \"최수연\" : 44, \"김철수\" : 90\n",
    "}\n",
    "\n",
    "print(score_data1)\n",
    "print(score_data2)"
   ]
  },
  {
   "cell_type": "code",
   "execution_count": 17,
   "metadata": {},
   "outputs": [
    {
     "name": "stdout",
     "output_type": "stream",
     "text": [
      "[{'이름': '홍길동', '성적': 68}, {'이름': '최수연', '성적': 44}, {'이름': '김철수', '성적': 90}]\n"
     ]
    }
   ],
   "source": [
    "score_data3 = [\n",
    "    {\"이름\" : \"홍길동\", \"성적\" : 68},\n",
    "    {\"이름\" : \"최수연\", \"성적\" : 44},\n",
    "    {\"이름\" : \"김철수\", \"성적\" : 90},\n",
    "]\n",
    "\n",
    "print(score_data3)"
   ]
  },
  {
   "cell_type": "markdown",
   "metadata": {
    "id": "hakTc3rjfpWc"
   },
   "source": [
    "### (2) 딕셔너리 다루기"
   ]
  },
  {
   "cell_type": "markdown",
   "metadata": {
    "id": "s2HGu7VwfpWc"
   },
   "source": [
    "예제. 날씨 데이터\n",
    "* 'city'키 'Busan'으로 수정하기\n",
    "* 미세먼지(`pm10`)키 추가하기 (값: 34)\n",
    "* 'forecast' 키에 ['Rainy', 'Rainy'] 추가하기\n",
    "\n",
    "```\n",
    "weather_data = {\n",
    "    'city': 'Seoul',\n",
    "    'temperature': 22.5,  # 섭씨\n",
    "    'humidity': 60,       # 상대 습도(%)\n",
    "    'forecast': ['Sunny', 'Cloudy', 'Rainy']  # 3일 예보\n",
    "}\n",
    "```"
   ]
  },
  {
   "cell_type": "code",
   "execution_count": 27,
   "metadata": {
    "id": "w3-dH_uTfpWc"
   },
   "outputs": [
    {
     "name": "stdout",
     "output_type": "stream",
     "text": [
      "{'city': 'Busan', 'temperature': 22.5, 'humidity': 60, 'forecast': ['Sunny', 'Cloudy', 'Rainy']}\n",
      "{'city': 'Busan', 'temperature': 22.5, 'humidity': 60, 'forecast': ['Sunny', 'Cloudy', 'Rainy'], 'pm10': 34}\n",
      "{'city': 'Busan', 'temperature': 22.5, 'humidity': 60, 'forecast': ['Sunny', 'Cloudy', 'Rainy', 'Rainy', 'Rainy'], 'pm10': 34}\n"
     ]
    }
   ],
   "source": [
    "weather_data = {\n",
    "    'city': 'Seoul',\n",
    "    'temperature': 22.5,  # 섭씨\n",
    "    'humidity': 60,       # 상대 습도(%)\n",
    "    'forecast': ['Sunny', 'Cloudy', 'Rainy']  # 3일 예보\n",
    "}\n",
    "\n",
    "weather_data['city'] = 'Busan'\n",
    "print(weather_data)\n",
    "\n",
    "weather_data['pm10'] = 34\n",
    "print(weather_data)\n",
    "\n",
    "weather_data['forecast'].extend(['Rainy','Rainy'])\n",
    "print(weather_data)\n",
    "\n"
   ]
  },
  {
   "cell_type": "markdown",
   "metadata": {
    "id": "T1fOPGfffpWd"
   },
   "source": [
    "### (3) 관련 메서드"
   ]
  },
  {
   "cell_type": "markdown",
   "metadata": {
    "id": "xyFqV-k4fpWd"
   },
   "source": [
    "#### 조회"
   ]
  },
  {
   "cell_type": "code",
   "execution_count": null,
   "metadata": {},
   "outputs": [
    {
     "name": "stdout",
     "output_type": "stream",
     "text": [
      "['홍길동', '김예지', '김사랑']\n",
      "{'홍길동': '참석'}\n",
      "{'홍길동': '참석', '김예지': '참석', '김사랑': '참석'}\n"
     ]
    }
   ],
   "source": [
    "student_list = [\"홍길동\", \"김예지\", \"김사랑\"]\n",
    "student_dict = {\"홍길동\" : \"참석\"}\n",
    "\n",
    "print(student_list)\n",
    "print(student_dict)\n",
    "\n",
    "for student in student_list :\n",
    "    if student not in student_dict.keys() :\n",
    "        student_dict[student] = \"참석\"\n",
    "\n",
    "print(student_dict)"
   ]
  },
  {
   "cell_type": "code",
   "execution_count": 51,
   "metadata": {},
   "outputs": [
    {
     "name": "stdout",
     "output_type": "stream",
     "text": [
      "{'a': 'a', 'b': 'b', 'c': 'c'}\n",
      "{'a': 'A', 'b': 'b', 'c': 'c'}\n"
     ]
    }
   ],
   "source": [
    "# student에 딕셔너리 a라는 키가 있으면 값을 A라고 바꿔주고 아니라면 a라는 키에 값은 \"\"을 가지게 만들어주세요\n",
    "\n",
    "student = {'a' : 'a', 'b' : 'b', 'c' : 'c'}\n",
    "print(student)\n",
    "\n",
    "if \"a\" in student.keys() :\n",
    "    student[\"a\"] = \"A\"\n",
    "else:\n",
    "    student[\"a\"] = \"\"\n",
    "\n",
    "print(student)"
   ]
  },
  {
   "cell_type": "markdown",
   "metadata": {
    "id": "NXLo6tYHfpWd"
   },
   "source": [
    "#### 삭제"
   ]
  },
  {
   "cell_type": "code",
   "execution_count": null,
   "metadata": {},
   "outputs": [],
   "source": []
  },
  {
   "cell_type": "markdown",
   "metadata": {
    "id": "l8y7gZ80fpWd"
   },
   "source": [
    "## 6) 집합"
   ]
  },
  {
   "cell_type": "markdown",
   "metadata": {
    "id": "NsSD5UjdfpWd"
   },
   "source": [
    "### (1) 표현"
   ]
  },
  {
   "cell_type": "code",
   "execution_count": 34,
   "metadata": {},
   "outputs": [
    {
     "name": "stdout",
     "output_type": "stream",
     "text": [
      "set()\n",
      "<class 'set'>\n"
     ]
    }
   ],
   "source": [
    "set_list = []\n",
    "myset = set(set_list)\n",
    "\n",
    "print(myset)\n",
    "print(type(myset))"
   ]
  },
  {
   "cell_type": "code",
   "execution_count": 35,
   "metadata": {},
   "outputs": [
    {
     "name": "stdout",
     "output_type": "stream",
     "text": [
      "{1, 3, 4, 5}\n",
      "<class 'set'>\n"
     ]
    }
   ],
   "source": [
    "set_list = [1, 1, 4, 5, 5, 5, 5, 5, 3]\n",
    "myset = set(set_list)\n",
    "\n",
    "print(myset)\n",
    "print(type(myset))"
   ]
  },
  {
   "cell_type": "markdown",
   "metadata": {
    "id": "zJqGcyIbfpWd"
   },
   "source": [
    "예제. 이메일 중복 제거\n",
    "\n",
    "```\n",
    "emails = ['user1@example.com','user2@example.com','user1@example.com','user3@example.com','user2@example.com']\n",
    "```"
   ]
  },
  {
   "cell_type": "code",
   "execution_count": 36,
   "metadata": {
    "id": "lmsklubGfpWd"
   },
   "outputs": [
    {
     "name": "stdout",
     "output_type": "stream",
     "text": [
      "{'user3@example.com', 'user1@example.com', 'user2@example.com'}\n"
     ]
    }
   ],
   "source": [
    "emails = ['user1@example.com','user2@example.com','user1@example.com','user3@example.com','user2@example.com']\n",
    "set_mails = set(emails)\n",
    "\n",
    "print(set_mails)"
   ]
  },
  {
   "cell_type": "code",
   "execution_count": null,
   "metadata": {},
   "outputs": [],
   "source": [
    "# 집합은 Indexing 불가\n",
    "\n",
    "print(set_mails[0])"
   ]
  },
  {
   "cell_type": "markdown",
   "metadata": {
    "id": "u3-4s3VbfpWe"
   },
   "source": [
    "### (2) 요소 추가/제거"
   ]
  },
  {
   "cell_type": "markdown",
   "metadata": {
    "id": "-IE7WahqfpWe"
   },
   "source": [
    "#### 추가"
   ]
  },
  {
   "cell_type": "code",
   "execution_count": null,
   "metadata": {
    "id": "ijOunSBsfzf-"
   },
   "outputs": [
    {
     "name": "stdout",
     "output_type": "stream",
     "text": [
      "{1, 2, 3, 4, 5}\n",
      "{1, 2, 3, 4, 5, 6}\n",
      "{1, 2, 3, 4, 5, 6, 7, 8}\n"
     ]
    }
   ],
   "source": [
    "myset = {1, 2, 3, 4, 5, 9}\n",
    "print(myset)\n",
    "\n",
    "# 6을 추가하기\n",
    "myset.add(6)\n",
    "\n",
    "# 5 추가하기\n",
    "myset.add(5)\n",
    "\n",
    "print(myset)\n",
    "\n",
    "# 4, 7, 8 추가하기\n",
    "myset.update([4, 7, 8])\n",
    "print(myset)"
   ]
  },
  {
   "cell_type": "markdown",
   "metadata": {
    "id": "inOzgS8ofpWe"
   },
   "source": [
    "#### 제거"
   ]
  },
  {
   "cell_type": "code",
   "execution_count": 43,
   "metadata": {},
   "outputs": [
    {
     "name": "stdout",
     "output_type": "stream",
     "text": [
      "{1, 2, 3, 4, 5, 9}\n",
      "{1, 2, 3, 4, 9}\n",
      "{1, 2, 3, 4}\n",
      "{1, 2, 3, 4}\n"
     ]
    }
   ],
   "source": [
    "# remove, discard\n",
    "myset = {1, 2, 3, 4, 5, 9}\n",
    "print(myset)\n",
    "\n",
    "# 5 제거하기\n",
    "myset.remove(5)\n",
    "print(myset)\n",
    "\n",
    "# 9 제거하기\n",
    "myset.remove(9)\n",
    "print(myset)\n",
    "\n",
    "# discard의 경우 요소가 없어도 에러 출력하지 않음, remove는 에러 출력\n",
    "myset.discard(11)\n",
    "print(myset)"
   ]
  },
  {
   "cell_type": "markdown",
   "metadata": {
    "id": "N7sDYPgkfpWe"
   },
   "source": [
    "### (3) 연산"
   ]
  },
  {
   "cell_type": "markdown",
   "metadata": {},
   "source": [
    "<img src='https://www.dropbox.com/scl/fi/o9jjkizgbclwemi9wot4h/.png?rlkey=35o0zu24jc99ggiv9ex3pukqf&st=f69cko7q&dl=1' width=30%>"
   ]
  },
  {
   "cell_type": "code",
   "execution_count": 45,
   "metadata": {},
   "outputs": [
    {
     "name": "stdout",
     "output_type": "stream",
     "text": [
      "{'C', 'D', 'A', 'F', 'G', 'B', 'H'}\n",
      "{'C', 'D', 'A', 'F', 'G', 'B', 'H'}\n",
      "{'A', 'F'}\n",
      "{'A', 'F'}\n",
      "{'C', 'G', 'D'}\n",
      "{'B', 'H'}\n"
     ]
    }
   ],
   "source": [
    "set1 = {\"A\", \"C\", \"D\", \"F\", \"G\"}\n",
    "set2 = {\"A\", \"B\", \"F\", \"H\"}\n",
    "\n",
    "# 합집합 (A 또는 B, A or B)\n",
    "set_union1 = set1 | set2\n",
    "print(set_union1)\n",
    "set_union2 = set1.union(set2)\n",
    "print(set_union2)\n",
    "\n",
    "# 교집합 (A 그리고 B, A and B)\n",
    "set_inter1 = set1 & set2\n",
    "print(set_inter1)\n",
    "set_inter2 = set1.intersection(set2)\n",
    "print(set_inter2)\n",
    "\n",
    "# 차집합 (A, A - B)\n",
    "set_diff1 = set1 - set2\n",
    "print(set_diff1)\n",
    "\n",
    "# 차집합 (B, B - A)\n",
    "set_diff2 = set2 - set1\n",
    "print(set_diff2)"
   ]
  },
  {
   "cell_type": "markdown",
   "metadata": {
    "id": "WCXq_UaJfpWe"
   },
   "source": [
    "## 7) 불"
   ]
  },
  {
   "cell_type": "code",
   "execution_count": 46,
   "metadata": {},
   "outputs": [],
   "source": [
    "switch = True\n",
    "login = False"
   ]
  },
  {
   "cell_type": "code",
   "execution_count": 49,
   "metadata": {},
   "outputs": [
    {
     "name": "stdout",
     "output_type": "stream",
     "text": [
      "환영합니다\n"
     ]
    }
   ],
   "source": [
    "login = True\n",
    "if login :\n",
    "    print(\"환영합니다\")"
   ]
  },
  {
   "cell_type": "code",
   "execution_count": 50,
   "metadata": {},
   "outputs": [
    {
     "name": "stdout",
     "output_type": "stream",
     "text": [
      "'H' 는 오늘 출근하지 않았습니다.\n"
     ]
    }
   ],
   "source": [
    "visitors = [\"A\", \"C\", \"G\"]\n",
    "if \"H\" not in visitors :\n",
    "    print(\"'H' 는 오늘 출근하지 않았습니다.\")"
   ]
  },
  {
   "cell_type": "code",
   "execution_count": null,
   "metadata": {},
   "outputs": [],
   "source": []
  }
 ],
 "metadata": {
  "colab": {
   "provenance": []
  },
  "kernelspec": {
   "display_name": "myproject",
   "language": "python",
   "name": "python3"
  },
  "language_info": {
   "codemirror_mode": {
    "name": "ipython",
    "version": 3
   },
   "file_extension": ".py",
   "mimetype": "text/x-python",
   "name": "python",
   "nbconvert_exporter": "python",
   "pygments_lexer": "ipython3",
   "version": "3.10.18"
  }
 },
 "nbformat": 4,
 "nbformat_minor": 0
}
