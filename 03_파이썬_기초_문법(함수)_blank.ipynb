{
 "cells": [
  {
   "cell_type": "markdown",
   "metadata": {},
   "source": [
    "# 1. 함수"
   ]
  },
  {
   "cell_type": "markdown",
   "metadata": {},
   "source": [
    "## 1) 표현"
   ]
  },
  {
   "cell_type": "code",
   "execution_count": 1,
   "metadata": {},
   "outputs": [],
   "source": [
    "# def 함수이름 :\n",
    "#     실행코드"
   ]
  },
  {
   "cell_type": "code",
   "execution_count": 2,
   "metadata": {},
   "outputs": [
    {
     "name": "stdout",
     "output_type": "stream",
     "text": [
      "hello\n",
      "hello\n",
      "None\n"
     ]
    }
   ],
   "source": [
    "# hello를 출력하는 함수\n",
    "\n",
    "def hello() :\n",
    "    print(\"hello\")\n",
    "\n",
    "hello()\n",
    "\n",
    "# 리턴값이 없어 변수에 담을 수 없음 (None)\n",
    "message = hello()\n",
    "print(message)"
   ]
  },
  {
   "cell_type": "markdown",
   "metadata": {},
   "source": [
    "## 2) return"
   ]
  },
  {
   "cell_type": "code",
   "execution_count": 3,
   "metadata": {},
   "outputs": [
    {
     "name": "stdout",
     "output_type": "stream",
     "text": [
      "hello\n"
     ]
    }
   ],
   "source": [
    "# hello를 반환하는 함수\n",
    "\n",
    "def hello() :\n",
    "    return \"hello\"\n",
    "\n",
    "message = hello()\n",
    "print(message)"
   ]
  },
  {
   "cell_type": "markdown",
   "metadata": {},
   "source": [
    "## 3) 매개변수"
   ]
  },
  {
   "cell_type": "code",
   "execution_count": null,
   "metadata": {},
   "outputs": [
    {
     "name": "stdout",
     "output_type": "stream",
     "text": [
      "47\n"
     ]
    }
   ],
   "source": [
    "# x, y를 매개변수로 받고 이 두 매개변수의 합을 반환하는 함수\n",
    "\n",
    "def calc_add(first_val:int, seceond_val:int) -> int:\n",
    "    \"\"\"\n",
    "    두 매개변수(정수형) 를 더하여 (정수형으로)반환하는 함수\n",
    "    \"\"\"\n",
    "    result = first_val + seceond_val\n",
    "    return result\n",
    "\n",
    "x = 10\n",
    "y = 37\n",
    "num = calc_add(x, y)\n",
    "print(num)"
   ]
  },
  {
   "cell_type": "code",
   "execution_count": 5,
   "metadata": {},
   "outputs": [
    {
     "name": "stdout",
     "output_type": "stream",
     "text": [
      "김선재님의 나이는 20세 남성입니다.\n",
      "상세사항: None\n",
      "아무개님의 나이는 25세 여성입니다.\n",
      "상세사항: None\n",
      "홍길동님의 나이는 34세 남성입니다.\n",
      "상세사항: 의적입니다\n",
      "홍길동님의 나이는 34세 남성입니다.\n",
      "상세사항: None\n"
     ]
    }
   ],
   "source": [
    "# 이름과 나이를 입력하면 \"홍길동 님의 나이는 34세 입니다\" 라고 출력해주는 함수\n",
    "\n",
    "def print_name_age(name:str, age:int, gender:str = \"남성\", details=None) :\n",
    "    print((f\"{name}님의 나이는 {age}세 {gender}입니다.\"))\n",
    "    print(f\"상세사항: {details}\")\n",
    "    return\n",
    "\n",
    "print_name_age(\"김선재\", 20)\n",
    "print_name_age(\"아무개\", 25, \"여성\")\n",
    "\n",
    "print_name_age(name = \"홍길동\", age = 34, gender = \"남성\", details = \"의적입니다\")\n",
    "print_name_age(gender = \"남성\", age = 34, name = \"홍길동\")"
   ]
  },
  {
   "cell_type": "code",
   "execution_count": 6,
   "metadata": {},
   "outputs": [
    {
     "name": "stdout",
     "output_type": "stream",
     "text": [
      "266.667\n"
     ]
    }
   ],
   "source": [
    "# *args **kwargs\n",
    "# 시험 성적의 평균을 반환하는 함수\n",
    "\n",
    "def avg_score(*args) :\n",
    "    length = len(args)\n",
    "    avg = round((sum(args) / length), 3)\n",
    "    return avg\n",
    "\n",
    "sum_val = avg_score(100, 200, 500)\n",
    "print(sum_val)"
   ]
  },
  {
   "cell_type": "code",
   "execution_count": 7,
   "metadata": {},
   "outputs": [
    {
     "name": "stdout",
     "output_type": "stream",
     "text": [
      "name: 홍길동\n",
      "math: 90\n",
      "science: 80\n"
     ]
    }
   ],
   "source": [
    "# **kwargs\n",
    "# 학생의 시험점수를 한눈에 보이게 출력해주는 함수\n",
    "# name: 홍길동\n",
    "# science : 80\n",
    "# ...\n",
    "\n",
    "def prt_score(**kwargs) :\n",
    "    for key, value in kwargs.items() :\n",
    "        print(f\"{key}: {value}\")\n",
    "\n",
    "    return\n",
    "\n",
    "prt_score(name=\"홍길동\", math = 90, science = 80)"
   ]
  },
  {
   "cell_type": "markdown",
   "metadata": {},
   "source": [
    "## 4) lambda 함수"
   ]
  },
  {
   "cell_type": "code",
   "execution_count": 8,
   "metadata": {},
   "outputs": [
    {
     "name": "stdout",
     "output_type": "stream",
     "text": [
      "5\n"
     ]
    }
   ],
   "source": [
    "# x, y를 입력했을 때 덧셈해주는 함수\n",
    "def calc_add(x, y) :\n",
    "    return x + y\n",
    "\n",
    "print(calc_add(2, 3))"
   ]
  },
  {
   "cell_type": "code",
   "execution_count": 9,
   "metadata": {},
   "outputs": [
    {
     "name": "stdout",
     "output_type": "stream",
     "text": [
      "8\n"
     ]
    }
   ],
   "source": [
    "calc_add = lambda x, y : x + y\n",
    "\n",
    "print(calc_add(2, 6))"
   ]
  },
  {
   "cell_type": "code",
   "execution_count": 16,
   "metadata": {},
   "outputs": [],
   "source": [
    "# 15만원 이상인 상품들만 딕셔너리로 만들고 싶어요\n",
    "\n",
    "def make_list(input_dict:dict) -> dict :\n",
    "    return_dict = {}\n",
    "    for key in input_dict :\n",
    "        if input_dict[key] > 150000 :\n",
    "            return_dict[key] = input_dict[key]\n",
    "\n",
    "    return return_dict"
   ]
  },
  {
   "cell_type": "code",
   "execution_count": null,
   "metadata": {},
   "outputs": [
    {
     "name": "stdout",
     "output_type": "stream",
     "text": [
      "{'노트북': 1200000, '모니터': 290000}\n"
     ]
    }
   ],
   "source": [
    "wishlist = {\"노트북\" : 1200000, \"마우스\" : 33000, \"키보드\" : 110000, \"모니터\" : 290000}\n",
    "\n",
    "wanted_dict = make_list(wishlist)\n",
    "\n",
    "print(wanted_dict)"
   ]
  },
  {
   "cell_type": "markdown",
   "metadata": {},
   "source": [
    "# 2. 파일 읽기/쓰기"
   ]
  },
  {
   "cell_type": "markdown",
   "metadata": {},
   "source": [
    "## 1) os"
   ]
  },
  {
   "cell_type": "code",
   "execution_count": null,
   "metadata": {},
   "outputs": [
    {
     "name": "stdout",
     "output_type": "stream",
     "text": [
      "c:\\WorkSpace\\myproject\n"
     ]
    }
   ],
   "source": [
    "import os\n",
    "\n",
    "\n",
    "# 현재 위치\n",
    "print(os.getcwd())\n",
    "\n",
    "# 폴더 만들기\n",
    "os.mkdir(\"test\")"
   ]
  },
  {
   "cell_type": "markdown",
   "metadata": {},
   "source": [
    "## 2) 파일 생성/읽기/추가"
   ]
  },
  {
   "cell_type": "markdown",
   "metadata": {},
   "source": [
    "### 생성"
   ]
  },
  {
   "cell_type": "code",
   "execution_count": 25,
   "metadata": {},
   "outputs": [],
   "source": [
    "os.mkdir(\"data\")"
   ]
  },
  {
   "cell_type": "code",
   "execution_count": null,
   "metadata": {},
   "outputs": [],
   "source": [
    "with open(\"data/mytext.txt\", \"w\", encoding=\"utf-8\") as f :\n",
    "    f.write(\"hello\")   "
   ]
  },
  {
   "cell_type": "markdown",
   "metadata": {},
   "source": [
    "### 읽기"
   ]
  },
  {
   "cell_type": "code",
   "execution_count": 35,
   "metadata": {},
   "outputs": [
    {
     "name": "stdout",
     "output_type": "stream",
     "text": [
      "2002년생\n",
      "김선재\n",
      "남성\n",
      "학사 졸업\n",
      "\n"
     ]
    }
   ],
   "source": [
    "with open(\"data/intro.txt\", \"r\", encoding=\"utf-8\") as f :\n",
    "    contents = f.read()\n",
    "\n",
    "print(contents)"
   ]
  },
  {
   "cell_type": "markdown",
   "metadata": {},
   "source": [
    "### 추가"
   ]
  },
  {
   "cell_type": "code",
   "execution_count": 30,
   "metadata": {},
   "outputs": [],
   "source": [
    "with open(\"data/mytext.txt\", \"a\", encoding=\"utf-8\") as f :\n",
    "    f.write(\"\\nhello\")"
   ]
  },
  {
   "cell_type": "code",
   "execution_count": 34,
   "metadata": {},
   "outputs": [],
   "source": [
    "infos = [\n",
    "    \"2002년생\",\n",
    "    \"김선재\",\n",
    "    \"남성\",\n",
    "    \"학사 졸업\"\n",
    "]\n",
    "\n",
    "with open(\"data/intro.txt\", \"a\", encoding=\"utf-8\") as f :\n",
    "    for info in infos :\n",
    "        f.write(info)\n",
    "        f.write(\"\\n\")\n",
    "    "
   ]
  },
  {
   "cell_type": "markdown",
   "metadata": {},
   "source": [
    "# 3. 예외 처리"
   ]
  },
  {
   "cell_type": "code",
   "execution_count": 46,
   "metadata": {},
   "outputs": [],
   "source": [
    "# 나눗셈 함수 만들기\n",
    "\n",
    "def devide(x : int, y : int) -> float :\n",
    "    return x / y"
   ]
  },
  {
   "cell_type": "code",
   "execution_count": 42,
   "metadata": {},
   "outputs": [
    {
     "name": "stdout",
     "output_type": "stream",
     "text": [
      "2.5\n"
     ]
    }
   ],
   "source": [
    "result = devide(5, 2)\n",
    "print(result)"
   ]
  },
  {
   "cell_type": "code",
   "execution_count": 47,
   "metadata": {},
   "outputs": [],
   "source": [
    "# try : \n",
    "#     실행 코드\n",
    "# except :\n",
    "#     예외 처리\n",
    "\n",
    "try :\n",
    "    result = devide(5, 0)\n",
    "    print(result)\n",
    "except :\n",
    "    pass\n",
    "\n"
   ]
  },
  {
   "cell_type": "code",
   "execution_count": 49,
   "metadata": {},
   "outputs": [
    {
     "name": "stdout",
     "output_type": "stream",
     "text": [
      "ZeroDivisionError\n",
      "division by zero\n"
     ]
    }
   ],
   "source": [
    "try :\n",
    "    result = devide(5, 0)\n",
    "    print(result)\n",
    "except Exception as e:\n",
    "    print(type(e).__name__)\n",
    "    print(e)"
   ]
  }
 ],
 "metadata": {
  "kernelspec": {
   "display_name": "myproject",
   "language": "python",
   "name": "python3"
  },
  "language_info": {
   "codemirror_mode": {
    "name": "ipython",
    "version": 3
   },
   "file_extension": ".py",
   "mimetype": "text/x-python",
   "name": "python",
   "nbconvert_exporter": "python",
   "pygments_lexer": "ipython3",
   "version": "3.10.18"
  }
 },
 "nbformat": 4,
 "nbformat_minor": 2
}
