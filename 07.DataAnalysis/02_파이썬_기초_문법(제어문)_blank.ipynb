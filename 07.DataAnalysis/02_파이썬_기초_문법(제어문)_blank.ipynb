{
 "cells": [
  {
   "cell_type": "markdown",
   "metadata": {},
   "source": [
    "# 제어문"
   ]
  },
  {
   "cell_type": "markdown",
   "metadata": {},
   "source": [
    "# 1. 조건문"
   ]
  },
  {
   "cell_type": "markdown",
   "metadata": {},
   "source": [
    "## 1) 연산자"
   ]
  },
  {
   "cell_type": "code",
   "execution_count": 6,
   "metadata": {},
   "outputs": [
    {
     "name": "stdout",
     "output_type": "stream",
     "text": [
      "미성년자입니다.\n"
     ]
    }
   ],
   "source": [
    "# 미성년자 판단하기 (만 18세 이상)\n",
    "# 나이를 age 라는 변수로 만들고\n",
    "# age가 18 미만이면 \"미성년자입니다\" 라고 출력해주세요\n",
    "\n",
    "age = 16\n",
    "\n",
    "if age < 19 :\n",
    "    print(\"미성년자입니다.\")"
   ]
  },
  {
   "cell_type": "code",
   "execution_count": 9,
   "metadata": {},
   "outputs": [
    {
     "name": "stdout",
     "output_type": "stream",
     "text": [
      "성인입니다.\n"
     ]
    }
   ],
   "source": [
    "# 나이를 age 라는 변수로 만들고\n",
    "# age가 18 미만이면 \"미성년자입니다\" 라고 출력하고, 이상이면 \"성인입니다\" 라고 출력해주세요\n",
    "\n",
    "age = 59\n",
    "\n",
    "if age < 19 :\n",
    "    print(\"미성년자입니다.\")\n",
    "elif age >= 19 :\n",
    "    print(\"성인입니다.\")"
   ]
  },
  {
   "cell_type": "code",
   "execution_count": null,
   "metadata": {},
   "outputs": [
    {
     "name": "stdout",
     "output_type": "stream",
     "text": [
      "Good\n"
     ]
    }
   ],
   "source": [
    "# 등급에 따라 메시지 출력하기\n",
    "# A-Perfect, B-Excellent, C-Good, 그 외 노력하세요 라고 출력해주세요\n",
    "\n",
    "grade = 'C'\n",
    "\n",
    "if grade == 'A' :\n",
    "    print(\"Perfect\")\n",
    "elif grade == 'B' :\n",
    "    print(\"Excellent\")\n",
    "elif grade == 'C' :\n",
    "    print(\"Good\")\n",
    "else : \n",
    "    print(\"노력하세요\")\n"
   ]
  },
  {
   "cell_type": "markdown",
   "metadata": {},
   "source": [
    "문제. 나이가 10세 이상이고, 키가 120cm 이상일 때만 놀이기구 탑승\n",
    "\n",
    "* 탑승 가능하면 \"통과\" 아니면 \"탑승 불가\"라고 출력하기"
   ]
  },
  {
   "cell_type": "code",
   "execution_count": 14,
   "metadata": {},
   "outputs": [
    {
     "name": "stdout",
     "output_type": "stream",
     "text": [
      "탑승불가\n"
     ]
    }
   ],
   "source": [
    "age = 14\n",
    "height = 119\n",
    "\n",
    "if (age >= 10) & (height >= 120) :\n",
    "    print(\"통과\")\n",
    "else :\n",
    "    print(\"탑승불가\")"
   ]
  },
  {
   "cell_type": "markdown",
   "metadata": {},
   "source": [
    "문제. 10만원 이상 구매하거나 \"Gold\" 등급이면 10% 할인\n",
    "\n",
    "* 할인이 가능하면 \"10% 할인 가능\" 아니면 \"10% 할인 불가\" 출력"
   ]
  },
  {
   "cell_type": "code",
   "execution_count": 16,
   "metadata": {},
   "outputs": [
    {
     "name": "stdout",
     "output_type": "stream",
     "text": [
      "10% 할인 가능\n"
     ]
    }
   ],
   "source": [
    "price = 80000\n",
    "level = \"Gold\"\n",
    "\n",
    "if (price >= 100000) | (level == \"Gold\") :\n",
    "    print(\"10% 할인 가능\")\n",
    "else :\n",
    "    print(\"10% 할인 불가\")"
   ]
  },
  {
   "cell_type": "markdown",
   "metadata": {},
   "source": [
    "## 2) 활용"
   ]
  },
  {
   "cell_type": "code",
   "execution_count": null,
   "metadata": {},
   "outputs": [
    {
     "name": "stdout",
     "output_type": "stream",
     "text": [
      "벌금 대상자입니다.\n",
      "카드를 통해 벌금을 납부했습니다.\n"
     ]
    }
   ],
   "source": [
    "# 지갑 안에 운전면허증(lisence)이 있다면 통과이고 없으면 벌금이다.\n",
    "# 만약 벌금을 납부하게 되면 지갑에 카드(credit card)가 있으면 카드 결제이고 아니면 현금 납부이다.\n",
    "# 이 사람은 어떻게 해야 하는가?\n",
    "\n",
    "wallet = [\"credit card\", \"trash\"]\n",
    "\n",
    "if \"lisence\" in wallet :\n",
    "    print(\"통과입니다.\")\n",
    "else :\n",
    "    print(\"벌금 대상자입니다.\")\n",
    "    if \"credit card\" in wallet :\n",
    "        print(\"카드를 통해 벌금을 납부했습니다.\")\n",
    "    else :\n",
    "        print(\"현금을 통해 벌금을 납부했습니다.\")"
   ]
  },
  {
   "cell_type": "markdown",
   "metadata": {},
   "source": [
    "## 4) 예제"
   ]
  },
  {
   "cell_type": "markdown",
   "metadata": {},
   "source": [
    "문제 1. 온도가 15도에서 25도 사이인지 확인하는 예시:"
   ]
  },
  {
   "cell_type": "markdown",
   "metadata": {},
   "source": [
    "문제 2. 학생의 성적에 따른 장학금 여부 결정\n",
    "\n",
    "* GPA가 4.0 이상이면 100% 장학금을 받습니다.\n",
    "* GPA가 3.5 이상이면 50% 장학금을 받습니다.\n",
    "* GPA가 3.0 이상이면 30% 장학금을 받습니다.\n",
    "* 그 외에는 장학금을 받을 수 없습니다."
   ]
  },
  {
   "cell_type": "markdown",
   "metadata": {},
   "source": [
    "문제 3. 특정 단어가 문장에서 없는지 확인\n",
    "\n",
    "* search_word가 text에 포함되지 않으면 해당 단어가 문장에 없다는 메시지를 출력합니다."
   ]
  },
  {
   "cell_type": "code",
   "execution_count": 5,
   "metadata": {},
   "outputs": [
    {
     "name": "stdout",
     "output_type": "stream",
     "text": [
      "온도가 15도와 25도 사이가 아닙니다.\n",
      "GPA가 3.0 이상이라 30% 장학금을 받습니다.\n",
      "찾으시는 단어가 문장에 포함되어 있지 않습니다.\n"
     ]
    }
   ],
   "source": [
    "temperature = 30\n",
    "\n",
    "if (temperature > 15) & (temperature < 25) :\n",
    "    print(\"온도가 15도와 25도 사이입니다.\")\n",
    "else :\n",
    "    print(\"온도가 15도와 25도 사이가 아닙니다.\")\n",
    "\n",
    "###############\n",
    "\n",
    "stuendt_GPA = 3.2\n",
    "\n",
    "if stuendt_GPA >= 4.0 :\n",
    "    print(\"GPA가 4.0 이상이라 100% 장학금을 받습니다.\")\n",
    "elif stuendt_GPA >= 3.5 :\n",
    "    print(\"GPA가 3.5 이상이라 50% 장학금을 받습니다.\")\n",
    "elif stuendt_GPA >= 3.0 :\n",
    "    print(\"GPA가 3.0 이상이라 30% 장학금을 받습니다.\")\n",
    "else :\n",
    "    print(\"GPA가 3.0 미만이라 장학금을 받을 수 없습니다.\")\n",
    "\n",
    "################\n",
    "\n",
    "text = \"데이터 분석은 흥미롭고 중요한 분야입니다.\"\n",
    "search_word = \"AI\"\n",
    "\n",
    "if search_word in text :\n",
    "    print(\"찾으시는 단어가 문장에 포함되어 있습니다.\")\n",
    "else :\n",
    "    print(\"찾으시는 단어가 문장에 포함되어 있지 않습니다.\")"
   ]
  },
  {
   "cell_type": "markdown",
   "metadata": {},
   "source": [
    "# 2. 반복문"
   ]
  },
  {
   "cell_type": "markdown",
   "metadata": {},
   "source": [
    "## 1) While 문"
   ]
  },
  {
   "cell_type": "markdown",
   "metadata": {},
   "source": [
    "<img src='https://www.dropbox.com/scl/fi/r0815e20gb2hv6a599i00/_-while.png?rlkey=dexzbwy3xu4phnzvo65cb6hbq&st=ykavuhx3&dl=1' width=30%>"
   ]
  },
  {
   "cell_type": "markdown",
   "metadata": {},
   "source": [
    "### (1) 표현"
   ]
  },
  {
   "cell_type": "code",
   "execution_count": 6,
   "metadata": {},
   "outputs": [
    {
     "name": "stdout",
     "output_type": "stream",
     "text": [
      "현재 카운트는 0 입니다.\n",
      "현재 카운트는 1 입니다.\n",
      "현재 카운트는 2 입니다.\n",
      "현재 카운트는 3 입니다.\n",
      "현재 카운트는 4 입니다.\n",
      "현재 카운트는 5 입니다.\n",
      "현재 카운트는 6 입니다.\n",
      "현재 카운트는 7 입니다.\n",
      "현재 카운트는 8 입니다.\n",
      "현재 카운트는 9 입니다.\n"
     ]
    }
   ],
   "source": [
    "count = 0\n",
    "\n",
    "while count < 10 :\n",
    "    print(f\"현재 카운트는 {count} 입니다.\")\n",
    "    count += 1"
   ]
  },
  {
   "cell_type": "code",
   "execution_count": null,
   "metadata": {},
   "outputs": [],
   "source": []
  },
  {
   "cell_type": "markdown",
   "metadata": {},
   "source": [
    "### (2) break"
   ]
  },
  {
   "cell_type": "code",
   "execution_count": 9,
   "metadata": {},
   "outputs": [
    {
     "name": "stdout",
     "output_type": "stream",
     "text": [
      "1\n",
      "2\n",
      "3\n",
      "4\n",
      "1\n",
      "2\n",
      "3\n"
     ]
    }
   ],
   "source": [
    "# count 0 -> True -> count 1 -> \"1\" -> False\n",
    "# count 1 -> True -> count 2 -> \"2\" -> False\n",
    "# count 2 -> True -> count 3 -> \"3\" -> False\n",
    "# count 3 -> True -> count 4 -> \"4\" -> True -> break\n",
    "count = 0\n",
    "while True:\n",
    "    count += 1\n",
    "    print(count)\n",
    "\n",
    "    if count > 3:\n",
    "        break\n",
    "\n",
    "# count 0 -> True -> count 1 -> False -> \"1\"\n",
    "# count 1 -> True -> count 2 -> False -> \"2\"\n",
    "# count 2 -> True -> count 3 -> False -> \"3\"\n",
    "# count 3 -> True -> count 4 -> True -> break\n",
    "count = 0\n",
    "while True:\n",
    "    count += 1\n",
    "\n",
    "    if count > 3:\n",
    "        break\n",
    "\n",
    "    print(count)"
   ]
  },
  {
   "cell_type": "markdown",
   "metadata": {},
   "source": [
    "### (2) continue"
   ]
  },
  {
   "cell_type": "code",
   "execution_count": null,
   "metadata": {},
   "outputs": [
    {
     "name": "stdout",
     "output_type": "stream",
     "text": [
      "2\n"
     ]
    }
   ],
   "source": [
    "# count 0 -> True -> count 1 -> True -> continue\n",
    "# count 1 -> True -> count 2 -> False -> \"2\"\n",
    "# count 2 -> True -> count 3 -> True -> continue\n",
    "# count 3 -> False\n",
    "\n",
    "count = 0\n",
    "while count < 3 :\n",
    "    count += 1\n",
    "\n",
    "    if count % 2 != 0:\n",
    "        continue\n",
    "\n",
    "    print(count)\n",
    "\n"
   ]
  },
  {
   "cell_type": "markdown",
   "metadata": {},
   "source": [
    "## 2) For 문"
   ]
  },
  {
   "cell_type": "markdown",
   "metadata": {},
   "source": [
    "<img src='https://www.dropbox.com/scl/fi/eezsh68wobwm87rhh7209/_-for.png?rlkey=w1mhrm40cg413ajdajix0bb9m&st=ptyurj6a&dl=1' width='30%'>"
   ]
  },
  {
   "cell_type": "markdown",
   "metadata": {},
   "source": [
    "### (1) 표현"
   ]
  },
  {
   "cell_type": "code",
   "execution_count": 11,
   "metadata": {},
   "outputs": [
    {
     "name": "stdout",
     "output_type": "stream",
     "text": [
      "1\n",
      "2\n",
      "3\n"
     ]
    }
   ],
   "source": [
    "num_list = [1, 2, 3]\n",
    "\n",
    "for num in num_list:\n",
    "    print(num)"
   ]
  },
  {
   "cell_type": "markdown",
   "metadata": {},
   "source": [
    "### (2) 관련 주요 함수"
   ]
  },
  {
   "cell_type": "code",
   "execution_count": 12,
   "metadata": {},
   "outputs": [
    {
     "name": "stdout",
     "output_type": "stream",
     "text": [
      "1\n",
      "2\n",
      "3\n",
      "4\n",
      "5\n"
     ]
    }
   ],
   "source": [
    "for i in range(1,6) :\n",
    "    print(i)"
   ]
  },
  {
   "cell_type": "code",
   "execution_count": 13,
   "metadata": {},
   "outputs": [
    {
     "name": "stdout",
     "output_type": "stream",
     "text": [
      "홍길동\n",
      "김철수\n",
      "한유리\n",
      "정성우\n"
     ]
    }
   ],
   "source": [
    "students = [\"홍길동\", \"김철수\", \"한유리\", \"정성우\"]\n",
    "\n",
    "for student in students :\n",
    "    print(student)"
   ]
  },
  {
   "cell_type": "code",
   "execution_count": 18,
   "metadata": {},
   "outputs": [
    {
     "name": "stdout",
     "output_type": "stream",
     "text": [
      "0 홍길동\n",
      "1 김철수\n",
      "2 한유리\n",
      "3 정성우\n"
     ]
    }
   ],
   "source": [
    "students = [\"홍길동\", \"김철수\", \"한유리\", \"정성우\"]\n",
    "\n",
    "for i in range(len(students)) :\n",
    "    print(i, students[i])"
   ]
  },
  {
   "cell_type": "code",
   "execution_count": 20,
   "metadata": {},
   "outputs": [
    {
     "name": "stdout",
     "output_type": "stream",
     "text": [
      "0 홍길동\n",
      "1 김철수\n",
      "2 한유리\n",
      "3 정성우\n"
     ]
    }
   ],
   "source": [
    "students = [\"홍길동\", \"김철수\", \"한유리\", \"정성우\"]\n",
    "\n",
    "for i, student in enumerate(students) :\n",
    "    print(i, student)"
   ]
  },
  {
   "cell_type": "code",
   "execution_count": null,
   "metadata": {},
   "outputs": [
    {
     "name": "stdout",
     "output_type": "stream",
     "text": [
      "홍길동\n",
      "최수연\n",
      "김철수\n",
      "68\n",
      "44\n",
      "90\n",
      "홍길동 68점\n",
      "최수연 44점\n",
      "김철수 90점\n"
     ]
    }
   ],
   "source": [
    "# # 미션\n",
    "# score_data = {\"홍길동\": 68, \"최수연\": 44, \"김철수\": 90}\n",
    "\n",
    "score_data = {\"홍길동\": 68, \"최수연\": 44, \"김철수\": 90}\n",
    "\n",
    "# ## 출력 결과\n",
    "# 홍길동\n",
    "# 최수연\n",
    "# 김철수\n",
    "\n",
    "for name in score_data :\n",
    "    print(name)\n",
    "\n",
    "# ## 출력 결과\n",
    "# 68\n",
    "# 44\n",
    "# 90\n",
    "\n",
    "for name in score_data :\n",
    "    print(score_data[name])\n",
    "\n",
    "# ## 출력 결과\n",
    "# 홍길동 68점\n",
    "# 최수연 44점\n",
    "# 김철수 90점\n",
    "\n",
    "for name in score_data :\n",
    "    print(f\"{name} {score_data[name]}점\")"
   ]
  },
  {
   "cell_type": "code",
   "execution_count": 29,
   "metadata": {},
   "outputs": [
    {
     "name": "stdout",
     "output_type": "stream",
     "text": [
      "홍길동 68점\n",
      "최수연 44점\n",
      "김철수 90점\n"
     ]
    }
   ],
   "source": [
    "names = [\"홍길동\", \"최수연\", \"김철수\"]\n",
    "scores = [68, 44, 90]\n",
    "\n",
    "for name, score in zip(names, scores) :\n",
    "    print(f\"{name} {score}점\")"
   ]
  },
  {
   "cell_type": "markdown",
   "metadata": {},
   "source": [
    "### (3) break/continue"
   ]
  },
  {
   "cell_type": "markdown",
   "metadata": {},
   "source": [
    "#### break"
   ]
  },
  {
   "cell_type": "code",
   "execution_count": 32,
   "metadata": {},
   "outputs": [
    {
     "name": "stdout",
     "output_type": "stream",
     "text": [
      "1\n",
      "2\n",
      "3\n",
      "4\n",
      "5\n",
      "6\n",
      "7\n"
     ]
    }
   ],
   "source": [
    "# 1부터 10까지 숫자를 하나씩 출력하고 7이 나오면 반복문 중지\n",
    "\n",
    "for i in range(1, 11) :\n",
    "    print(i)\n",
    "    if i == 7 :\n",
    "        break"
   ]
  },
  {
   "cell_type": "markdown",
   "metadata": {},
   "source": [
    "#### continue"
   ]
  },
  {
   "cell_type": "code",
   "execution_count": 31,
   "metadata": {},
   "outputs": [
    {
     "name": "stdout",
     "output_type": "stream",
     "text": [
      "1\n",
      "2\n",
      "3\n",
      "4\n",
      "6\n",
      "7\n",
      "8\n",
      "9\n",
      "10\n"
     ]
    }
   ],
   "source": [
    "# 1부터 10까지 숫자 중에서 5만 뺴고 출력하기\n",
    "\n",
    "for i in range(1, 11) :\n",
    "    if i == 5 :\n",
    "        continue\n",
    "    print(i)"
   ]
  },
  {
   "cell_type": "markdown",
   "metadata": {},
   "source": [
    "### (4) 활용"
   ]
  },
  {
   "cell_type": "markdown",
   "metadata": {},
   "source": [
    "## 3) 예제"
   ]
  },
  {
   "cell_type": "markdown",
   "metadata": {},
   "source": [
    "예제1. 학생 성적 딕셔너리\n",
    "\n",
    "반복문을 사용해서 \"홍길동님의 성적은 85점입니다\" 형태로 출력하세요.\n",
    "\n",
    "```\n",
    "grades = {\n",
    "    \"John\": 85,\n",
    "    \"Emily\": 92,\n",
    "    \"Tom\": 78,\n",
    "    \"Lucy\": 88\n",
    "}\n",
    "```"
   ]
  },
  {
   "cell_type": "code",
   "execution_count": 24,
   "metadata": {},
   "outputs": [
    {
     "name": "stdout",
     "output_type": "stream",
     "text": [
      "John 님의 성적은 85점 입니다.\n",
      "Emily 님의 성적은 92점 입니다.\n",
      "Tom 님의 성적은 78점 입니다.\n",
      "Lucy 님의 성적은 88점 입니다.\n"
     ]
    }
   ],
   "source": [
    "grades = {\n",
    "    \"John\": 85,\n",
    "    \"Emily\": 92,\n",
    "    \"Tom\": 78,\n",
    "    \"Lucy\": 88\n",
    "}\n",
    "\n",
    "for grade in grades :\n",
    "    print(f\"{grade} 님의 성적은 {grades[grade]}점 입니다.\")"
   ]
  },
  {
   "cell_type": "markdown",
   "metadata": {},
   "source": [
    "예제2. 센서 온도 데이터\n",
    "\n",
    "30도 이상인 데이터만 출력하세요\n",
    "\n",
    "```\n",
    "temperature_data = [22.5, 35.2, 28.4, 40.1, 25.3]\n",
    "```"
   ]
  },
  {
   "cell_type": "code",
   "execution_count": 26,
   "metadata": {},
   "outputs": [
    {
     "name": "stdout",
     "output_type": "stream",
     "text": [
      "35.2\n",
      "40.1\n"
     ]
    }
   ],
   "source": [
    "temperature_data = [22.5, 35.2, 28.4, 40.1, 25.3]\n",
    "\n",
    "for temperature in temperature_data :\n",
    "    if temperature >= 30 :\n",
    "        print(f\"{temperature}\")"
   ]
  },
  {
   "cell_type": "markdown",
   "metadata": {},
   "source": [
    "예제 3. 고객 주문 데이터\n",
    "\n",
    "반복문을 사용해서 총 매출을 계산하세요.\n",
    "\n",
    "```\n",
    "orders = [\n",
    "    {\"customer\": \"Kim\", \"amount\": 120000},\n",
    "    {\"customer\": \"Lee\", \"amount\": 85000},\n",
    "    {\"customer\": \"Park\", \"amount\": 99000},\n",
    "]\n",
    "```"
   ]
  },
  {
   "cell_type": "code",
   "execution_count": 27,
   "metadata": {},
   "outputs": [
    {
     "name": "stdout",
     "output_type": "stream",
     "text": [
      "304000\n"
     ]
    }
   ],
   "source": [
    "orders = [\n",
    "    {\"customer\": \"Kim\", \"amount\": 120000},\n",
    "    {\"customer\": \"Lee\", \"amount\": 85000},\n",
    "    {\"customer\": \"Park\", \"amount\": 99000},\n",
    "]\n",
    "\n",
    "total_profit = 0\n",
    "\n",
    "for order in orders :\n",
    "    total_profit += order[\"amount\"]\n",
    "\n",
    "print(total_profit)"
   ]
  },
  {
   "cell_type": "markdown",
   "metadata": {},
   "source": [
    "예제 4. 리뷰 데이터\n",
    "\n",
    "짜장면이 언급된 데이터만 출력하세요\n",
    "\n",
    "```\n",
    "reviews = [\n",
    "    \"맛있어요! 짜장면 최고예요!\",\n",
    "    \"배달이 느렸지만 짬뽕은 맛있었어요.\",\n",
    "    \"탕수육은 별로였지만 전체적으로 만족!\",\n",
    "    \"짜장면이 너무 짰어요.\",\n",
    "]\n",
    "```"
   ]
  },
  {
   "cell_type": "code",
   "execution_count": 28,
   "metadata": {},
   "outputs": [
    {
     "name": "stdout",
     "output_type": "stream",
     "text": [
      "맛있어요! 짜장면 최고예요!\n",
      "짜장면이 너무 짰어요.\n"
     ]
    }
   ],
   "source": [
    "reviews = [\n",
    "    \"맛있어요! 짜장면 최고예요!\",\n",
    "    \"배달이 느렸지만 짬뽕은 맛있었어요.\",\n",
    "    \"탕수육은 별로였지만 전체적으로 만족!\",\n",
    "    \"짜장면이 너무 짰어요.\",\n",
    "]\n",
    "\n",
    "wanted_keyword = \"짜장면\"\n",
    "\n",
    "for review in reviews :\n",
    "    if wanted_keyword in review :\n",
    "        print(review)"
   ]
  },
  {
   "cell_type": "markdown",
   "metadata": {},
   "source": [
    "## 4) List Comprehension"
   ]
  },
  {
   "cell_type": "code",
   "execution_count": 34,
   "metadata": {},
   "outputs": [
    {
     "name": "stdout",
     "output_type": "stream",
     "text": [
      "[1, 2, 3, 4, 5, 6, 7, 8, 9, 10]\n"
     ]
    }
   ],
   "source": [
    "num_list = [i for i in range(1, 11)]\n",
    "print(num_list)"
   ]
  },
  {
   "cell_type": "code",
   "execution_count": 37,
   "metadata": {},
   "outputs": [
    {
     "name": "stdout",
     "output_type": "stream",
     "text": [
      "[1, 4, 9, 16, 25, 36, 49, 64, 81, 100]\n"
     ]
    }
   ],
   "source": [
    "num_list = [i**2 for i in range(1, 11)]\n",
    "print(num_list)"
   ]
  },
  {
   "cell_type": "code",
   "execution_count": 39,
   "metadata": {},
   "outputs": [
    {
     "name": "stdout",
     "output_type": "stream",
     "text": [
      "[2, 4, 6, 8, 10]\n"
     ]
    }
   ],
   "source": [
    "# 1~10까지의 짝수 리스트를 만들고 싶다.\n",
    "\n",
    "num_list = [i for i in range(1, 11) if i % 2 == 0]\n",
    "print(num_list)"
   ]
  },
  {
   "cell_type": "code",
   "execution_count": null,
   "metadata": {},
   "outputs": [
    {
     "name": "stdout",
     "output_type": "stream",
     "text": [
      "['홀수', '짝수', '홀수', '짝수', '홀수', '짝수', '홀수', '짝수', '홀수', '짝수']\n"
     ]
    }
   ],
   "source": [
    "# 1~10까지 짝수는 \"짝수\", 홀수는 \"홀수\"라고 써진 리스트틑 만들고 싶다.\n",
    "\n",
    "num_list = [\"짝수\" if i % 2 == 0 else \"홀수\" for i in range(1, 11)]\n",
    "print(num_list)"
   ]
  }
 ],
 "metadata": {
  "kernelspec": {
   "display_name": "myproject",
   "language": "python",
   "name": "python3"
  },
  "language_info": {
   "codemirror_mode": {
    "name": "ipython",
    "version": 3
   },
   "file_extension": ".py",
   "mimetype": "text/x-python",
   "name": "python",
   "nbconvert_exporter": "python",
   "pygments_lexer": "ipython3",
   "version": "3.10.18"
  }
 },
 "nbformat": 4,
 "nbformat_minor": 2
}
