{
 "cells": [
  {
   "cell_type": "code",
   "execution_count": null,
   "id": "094d45df",
   "metadata": {},
   "outputs": [
    {
     "name": "stdout",
     "output_type": "stream",
     "text": [
      "Hi\n"
     ]
    },
    {
     "ename": "",
     "evalue": "",
     "output_type": "error",
     "traceback": [
      "\u001b[1;31mThe Kernel crashed while executing code in the current cell or a previous cell. \n",
      "\u001b[1;31mPlease review the code in the cell(s) to identify a possible cause of the failure. \n",
      "\u001b[1;31mClick <a href='https://aka.ms/vscodeJupyterKernelCrash'>here</a> for more info. \n",
      "\u001b[1;31mView Jupyter <a href='command:jupyter.viewOutput'>log</a> for further details."
     ]
    }
   ],
   "source": [
    "print(\"Hello\")"
   ]
  },
  {
   "cell_type": "markdown",
   "id": "5d169821",
   "metadata": {},
   "source": [
    "# 1. 섹션1\n",
    "\n",
    "## 1-1. 섹션 1-1\n",
    "\n",
    "제 이름은 **홍길동** 입니다.\n",
    "\n",
    "* List1\n",
    "* List2\n",
    "* List3"
   ]
  },
  {
   "cell_type": "markdown",
   "id": "47e0ede0",
   "metadata": {},
   "source": []
  },
  {
   "cell_type": "markdown",
   "id": "94474dd9",
   "metadata": {},
   "source": [
    "[Kaggle](Http://www.kaggle.com)"
   ]
  }
 ],
 "metadata": {
  "kernelspec": {
   "display_name": "myproject",
   "language": "python",
   "name": "python3"
  },
  "language_info": {
   "codemirror_mode": {
    "name": "ipython",
    "version": 3
   },
   "file_extension": ".py",
   "mimetype": "text/x-python",
   "name": "python",
   "nbconvert_exporter": "python",
   "pygments_lexer": "ipython3",
   "version": "3.10.18"
  }
 },
 "nbformat": 4,
 "nbformat_minor": 5
}
