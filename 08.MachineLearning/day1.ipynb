{
 "cells": [
  {
   "cell_type": "code",
   "execution_count": 2,
   "id": "1fedb5a1",
   "metadata": {},
   "outputs": [],
   "source": [
    "import pandas as pd\n",
    "import numpy as np\n",
    "import sklearn\n",
    "from sklearn.impute import SimpleImputer"
   ]
  },
  {
   "cell_type": "markdown",
   "id": "b614b1f7",
   "metadata": {},
   "source": [
    "# 2. 데이터 전처리"
   ]
  },
  {
   "cell_type": "code",
   "execution_count": 3,
   "id": "e0a9d9e8",
   "metadata": {},
   "outputs": [
    {
     "name": "stdout",
     "output_type": "stream",
     "text": [
      "Original DataFrame:\n",
      "     age   income\n",
      "0  25.0  50000.0\n",
      "1  27.0  54000.0\n",
      "2   NaN  58000.0\n",
      "3  29.0      NaN\n",
      "4  31.0  61000.0\n",
      "5   NaN  62000.0\n",
      "6  35.0      NaN\n",
      "DataFrame with NaN values:\n",
      " age       2\n",
      "income    2\n",
      "dtype: int64\n",
      "DataFrame after imputation:\n",
      "     age   income\n",
      "0  25.0  50000.0\n",
      "1  27.0  54000.0\n",
      "2  29.4  58000.0\n",
      "3  29.0  57000.0\n",
      "4  31.0  61000.0\n",
      "5  29.4  62000.0\n",
      "6  35.0  57000.0\n"
     ]
    }
   ],
   "source": [
    "data = {\n",
    "    \"age\": [25, 27, np.nan, 29, 31, np.nan, 35],\n",
    "    \"income\": [50000, 54000, 58000, np.nan, 61000, 62000, np.nan]\n",
    "}\n",
    "\n",
    "df = pd.DataFrame(data)\n",
    "print(\"Original DataFrame:\" + \"\\n\", df)\n",
    "print(\"DataFrame with NaN values:\" + \"\\n\", df.isnull().sum())\n",
    "\n",
    "# median : 중앙값, mean : 평균, most_frequent : 최빈값, constant : 상수값\n",
    "imputer = SimpleImputer(strategy = 'mean')\n",
    "df[['age', 'income']] = imputer.fit_transform(df[['age', 'income']])\n",
    "\n",
    "print(\"DataFrame after imputation:\" + \"\\n\", df)"
   ]
  },
  {
   "cell_type": "code",
   "execution_count": null,
   "id": "07fb109c",
   "metadata": {},
   "outputs": [],
   "source": []
  }
 ],
 "metadata": {
  "kernelspec": {
   "display_name": "myproject",
   "language": "python",
   "name": "python3"
  },
  "language_info": {
   "codemirror_mode": {
    "name": "ipython",
    "version": 3
   },
   "file_extension": ".py",
   "mimetype": "text/x-python",
   "name": "python",
   "nbconvert_exporter": "python",
   "pygments_lexer": "ipython3",
   "version": "3.10.18"
  }
 },
 "nbformat": 4,
 "nbformat_minor": 5
}
