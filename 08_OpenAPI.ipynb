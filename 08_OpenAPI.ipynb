{
 "cells": [
  {
   "cell_type": "markdown",
   "id": "2344bb44",
   "metadata": {},
   "source": [
    "# Open API"
   ]
  },
  {
   "cell_type": "code",
   "execution_count": null,
   "id": "f0ef6f69",
   "metadata": {
    "vscode": {
     "languageId": "plaintext"
    }
   },
   "outputs": [],
   "source": []
  },
  {
   "cell_type": "markdown",
   "id": "1618ecf0",
   "metadata": {},
   "source": [
    "## 1. 공공 데이터 포털 Open API"
   ]
  }
 ],
 "metadata": {
  "language_info": {
   "name": "python"
  }
 },
 "nbformat": 4,
 "nbformat_minor": 5
}
