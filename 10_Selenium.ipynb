{
 "cells": [
  {
   "cell_type": "markdown",
   "id": "7ef9f962",
   "metadata": {},
   "source": [
    "# Selenium"
   ]
  },
  {
   "cell_type": "code",
   "execution_count": 48,
   "id": "dc673035",
   "metadata": {},
   "outputs": [],
   "source": [
    "from selenium import webdriver\n",
    "from selenium.webdriver.common.by import By\n",
    "from selenium.webdriver.common.keys import Keys\n",
    "import pandas as pd\n",
    "import time"
   ]
  },
  {
   "cell_type": "markdown",
   "id": "ae0f9763",
   "metadata": {},
   "source": [
    "## 1. 하나씩 제어해보기"
   ]
  },
  {
   "cell_type": "markdown",
   "id": "b5c29518",
   "metadata": {},
   "source": [
    "### 1) Chrome 윈도우 켜기"
   ]
  },
  {
   "cell_type": "code",
   "execution_count": 49,
   "id": "fea92a62",
   "metadata": {},
   "outputs": [],
   "source": [
    "url = \"https://play.google.com/store/games?hl=ko\"\n",
    "\n",
    "driver = webdriver.Chrome()\n",
    "driver.maximize_window()\n",
    "driver.get(url)\n",
    "time.sleep(1)"
   ]
  },
  {
   "cell_type": "markdown",
   "id": "ece22010",
   "metadata": {},
   "source": [
    "### 2) 돋보기 버튼 클릭"
   ]
  },
  {
   "cell_type": "code",
   "execution_count": 50,
   "id": "97717225",
   "metadata": {},
   "outputs": [],
   "source": [
    "search_btn_css = \"#kO001e > header > nav > div > div:nth-child(1) > button > i\"\n",
    "search_btn = driver.find_element(By.CSS_SELECTOR, search_btn_css)\n",
    "search_btn.click()\n",
    "time.sleep(1)"
   ]
  },
  {
   "cell_type": "markdown",
   "id": "530e4ab7",
   "metadata": {},
   "source": [
    "### 3) 검색어 입력"
   ]
  },
  {
   "cell_type": "code",
   "execution_count": 51,
   "id": "62dbde94",
   "metadata": {},
   "outputs": [],
   "source": [
    "keyword = \"배달의 민족\"\n",
    "\n",
    "input_box_css = \"#kO001e > header > nav > c-wiz > div > div > label > input\"\n",
    "input_box = driver.find_element(By.CSS_SELECTOR, input_box_css)\n",
    "input_box.send_keys(keyword)"
   ]
  },
  {
   "cell_type": "code",
   "execution_count": 52,
   "id": "7b2b7ffb",
   "metadata": {},
   "outputs": [],
   "source": [
    "input_box.send_keys(Keys.ENTER)\n",
    "time.sleep(1)"
   ]
  },
  {
   "cell_type": "markdown",
   "id": "5691cd56",
   "metadata": {},
   "source": [
    "### 4) 어플 정보 클릭"
   ]
  },
  {
   "cell_type": "code",
   "execution_count": 53,
   "id": "72af1cfa",
   "metadata": {},
   "outputs": [],
   "source": [
    "application_button_css = \"#yDmH0d > c-wiz:nth-child(7) > div > div > c-wiz > c-wiz:nth-child(1) > c-wiz > section > div > div > a\"\n",
    "application_button = driver.find_element(By.CSS_SELECTOR, application_button_css)\n",
    "application_url = application_button.get_attribute(\"href\")\n",
    "driver.get(application_url)\n",
    "time.sleep(1)"
   ]
  },
  {
   "cell_type": "markdown",
   "id": "12221f58",
   "metadata": {},
   "source": [
    "### 5) 리뷰 전체보기 클릭"
   ]
  },
  {
   "cell_type": "code",
   "execution_count": 54,
   "id": "2ecdd1a8",
   "metadata": {},
   "outputs": [],
   "source": [
    "review_sum_css = \"#yDmH0d > c-wiz.SSPGKf.Czez9d > div > div > div:nth-child(1) > div > div.wkMJlb.YWi3ub > div > div.qZmL0 > div:nth-child(1) > c-wiz:nth-child(5) > section > header > div > div:nth-child(2) > button > i\"\n",
    "review_sum_button = driver.find_element(By.CSS_SELECTOR, review_sum_css)\n",
    "review_sum_button.click()\n",
    "time.sleep(1)"
   ]
  },
  {
   "cell_type": "markdown",
   "id": "312e05ab",
   "metadata": {},
   "source": [
    "### 6) 스크롤 내리기"
   ]
  },
  {
   "cell_type": "code",
   "execution_count": 55,
   "id": "c06aba4f",
   "metadata": {},
   "outputs": [],
   "source": [
    "rep = 50\n",
    "\n",
    "display_box_css = \"#yDmH0d > div.VfPpkd-Sx9Kwc.cC1eCc.UDxLd.PzCPDd.HQdjr.VfPpkd-Sx9Kwc-OWXEXe-FNFY6c > div.VfPpkd-wzTsW > div > div > div > div > div.fysCi.Vk3ZVd\"\n",
    "display_box = driver.find_element(By.CSS_SELECTOR, display_box_css)\n",
    "for i in range(rep) :\n",
    "    display_box.send_keys(Keys.END)\n",
    "time.sleep(1)"
   ]
  },
  {
   "cell_type": "markdown",
   "id": "e5e5de59",
   "metadata": {},
   "source": [
    "### 7) 스크롤 맨 위로 움직이기"
   ]
  },
  {
   "cell_type": "code",
   "execution_count": 56,
   "id": "8f8e60fd",
   "metadata": {},
   "outputs": [],
   "source": [
    "display_box.send_keys(Keys.HOME)\n",
    "time.sleep(1)"
   ]
  },
  {
   "cell_type": "markdown",
   "id": "9fe3ac3c",
   "metadata": {},
   "source": [
    "### 8) 리뷰 추출하기"
   ]
  },
  {
   "cell_type": "code",
   "execution_count": 57,
   "id": "7bea7aff",
   "metadata": {},
   "outputs": [
    {
     "name": "stdout",
     "output_type": "stream",
     "text": [
      "200\n"
     ]
    }
   ],
   "source": [
    "reviews_area_css = \"#yDmH0d > div.VfPpkd-Sx9Kwc.cC1eCc.UDxLd.PzCPDd.HQdjr.VfPpkd-Sx9Kwc-OWXEXe-FNFY6c > div.VfPpkd-wzTsW > div > div > div > div > div.fysCi.Vk3ZVd > div > div:nth-child(2) > div\"\n",
    "reviews_area = driver.find_elements(By.CSS_SELECTOR, reviews_area_css)\n",
    "print(len(reviews_area))"
   ]
  },
  {
   "cell_type": "markdown",
   "id": "7711d06a",
   "metadata": {},
   "source": [
    "### 9) 한 개 리뷰 확인하기"
   ]
  },
  {
   "cell_type": "code",
   "execution_count": 58,
   "id": "9fc4a1a2",
   "metadata": {},
   "outputs": [
    {
     "name": "stdout",
     "output_type": "stream",
     "text": [
      "H프랭크\n",
      "1\n",
      "2025년 5월 30일\n",
      "장바구니를 확인하려고 하는데 로딩만 하다가 '화면을 불러오지 못했어요' 라는 메세지만 자꾸 뜨네요. 이것 때문에 주문을 못하고 있습니다. 데이터와 캐시를 삭제해봐도, 핸드폰을 다시 시작해봐도, 앱을 지웠다가 다시 깔아봐도 똑같네요. 앱이나 운영 쪽 문제라면 빠르게 픽스 좀 해주세요.\n"
     ]
    }
   ],
   "source": [
    "review = reviews_area[0]\n",
    "customer_id = review.find_element(By.CLASS_NAME, \"X5PpBb\").text\n",
    "star = review.find_element(By.CLASS_NAME, \"F7XJmb\").get_attribute(\"data-number\")\n",
    "enroll_date = review.find_element(By.CLASS_NAME, \"bp9Aid\").text\n",
    "content = review.find_element(By.CLASS_NAME, \"h3YV2d\").text\n",
    "\n",
    "print(f\"{customer_id}\\n{star}\\n{enroll_date}\\n{content}\")"
   ]
  },
  {
   "cell_type": "code",
   "execution_count": 59,
   "id": "ddfaa571",
   "metadata": {},
   "outputs": [
    {
     "name": "stdout",
     "output_type": "stream",
     "text": [
      "{'customer_id': 'H프랭크', 'star': '1', 'enroll_date': '2025년 5월 30일', 'content': \"장바구니를 확인하려고 하는데 로딩만 하다가 '화면을 불러오지 못했어요' 라는 메세지만 자꾸 뜨네요. 이것 때문에 주문을 못하고 있습니다. 데이터와 캐시를 삭제해봐도, 핸드폰을 다시 시작해봐도, 앱을 지웠다가 다시 깔아봐도 똑같네요. 앱이나 운영 쪽 문제라면 빠르게 픽스 좀 해주세요.\"}\n"
     ]
    }
   ],
   "source": [
    "reviews_dict = {\n",
    "    \"customer_id\" : customer_id,\n",
    "    \"star\" : star,\n",
    "    \"enroll_date\" : enroll_date,\n",
    "    \"content\" : content\n",
    "}\n",
    "\n",
    "print(reviews_dict)"
   ]
  },
  {
   "cell_type": "markdown",
   "id": "a9b033fd",
   "metadata": {},
   "source": [
    "### 10) 모든 리뷰 수집하기"
   ]
  },
  {
   "cell_type": "code",
   "execution_count": 60,
   "id": "0120c34e",
   "metadata": {},
   "outputs": [
    {
     "data": {
      "text/html": [
       "<div>\n",
       "<style scoped>\n",
       "    .dataframe tbody tr th:only-of-type {\n",
       "        vertical-align: middle;\n",
       "    }\n",
       "\n",
       "    .dataframe tbody tr th {\n",
       "        vertical-align: top;\n",
       "    }\n",
       "\n",
       "    .dataframe thead th {\n",
       "        text-align: right;\n",
       "    }\n",
       "</style>\n",
       "<table border=\"1\" class=\"dataframe\">\n",
       "  <thead>\n",
       "    <tr style=\"text-align: right;\">\n",
       "      <th></th>\n",
       "      <th>customer_id</th>\n",
       "      <th>star</th>\n",
       "      <th>enroll_date</th>\n",
       "      <th>content</th>\n",
       "    </tr>\n",
       "  </thead>\n",
       "  <tbody>\n",
       "    <tr>\n",
       "      <th>0</th>\n",
       "      <td>H프랭크</td>\n",
       "      <td>1</td>\n",
       "      <td>2025년 5월 30일</td>\n",
       "      <td>장바구니를 확인하려고 하는데 로딩만 하다가 '화면을 불러오지 못했어요' 라는 메세지...</td>\n",
       "    </tr>\n",
       "    <tr>\n",
       "      <th>1</th>\n",
       "      <td>삐삠</td>\n",
       "      <td>1</td>\n",
       "      <td>2025년 3월 9일</td>\n",
       "      <td>음식배달 탭 대신 가게배달 탭을 쓰던 이유가 리뷰 볼 수 있고(가게의 위생, 맛, ...</td>\n",
       "    </tr>\n",
       "    <tr>\n",
       "      <th>2</th>\n",
       "      <td>Hye ju Lee</td>\n",
       "      <td>1</td>\n",
       "      <td>2024년 12월 8일</td>\n",
       "      <td>찜목록 편집기능좀 넣어주세요 코로나기간에 찝한 200개 하나하나 들어가서 해제해야해...</td>\n",
       "    </tr>\n",
       "    <tr>\n",
       "      <th>3</th>\n",
       "      <td>핑크</td>\n",
       "      <td>1</td>\n",
       "      <td>2025년 7월 19일</td>\n",
       "      <td>나쁘진 않은데 찜 내역에서 가게나 장보기내역 삭제하려면 하나하나 클릭해 들어가서 찜...</td>\n",
       "    </tr>\n",
       "    <tr>\n",
       "      <th>4</th>\n",
       "      <td>남규범</td>\n",
       "      <td>1</td>\n",
       "      <td>2025년 7월 13일</td>\n",
       "      <td>원래 이런거 잘 안쓰는데 짜증나서 쓰고 깁니다. 주소가 잘못 기입되서 주문취소 하는...</td>\n",
       "    </tr>\n",
       "    <tr>\n",
       "      <th>...</th>\n",
       "      <td>...</td>\n",
       "      <td>...</td>\n",
       "      <td>...</td>\n",
       "      <td>...</td>\n",
       "    </tr>\n",
       "    <tr>\n",
       "      <th>195</th>\n",
       "      <td>Google 사용자</td>\n",
       "      <td>1</td>\n",
       "      <td>2019년 2월 25일</td>\n",
       "      <td>맛집 동네 검색 있음 좋겠음 메뉴 종류 선택 장애 들을 위해서요 글이 잘못 전달 된...</td>\n",
       "    </tr>\n",
       "    <tr>\n",
       "      <th>196</th>\n",
       "      <td>sho_Ony</td>\n",
       "      <td>1</td>\n",
       "      <td>2020년 9월 14일</td>\n",
       "      <td>메인에서 카테고리로 진입하면 텅 비어있거나 몇 안되는데, 검색하기로 찾으면 나오는 ...</td>\n",
       "    </tr>\n",
       "    <tr>\n",
       "      <th>197</th>\n",
       "      <td>Google 사용자</td>\n",
       "      <td>1</td>\n",
       "      <td>2019년 4월 7일</td>\n",
       "      <td>메뉴 이름으로 검색 안 되고 가게 상호명만 검색할 수 있는거 너무 불편해요. 그리고...</td>\n",
       "    </tr>\n",
       "    <tr>\n",
       "      <th>198</th>\n",
       "      <td>Google 사용자</td>\n",
       "      <td>1</td>\n",
       "      <td>2019년 9월 21일</td>\n",
       "      <td>오랫동안 애용중인 배민인입니다^^ 매장도 계속 추가되고 다양한 음식이 많아져서 정말...</td>\n",
       "    </tr>\n",
       "    <tr>\n",
       "      <th>199</th>\n",
       "      <td>Google 사용자</td>\n",
       "      <td>1</td>\n",
       "      <td>2019년 11월 26일</td>\n",
       "      <td>많이쓰다보니 편하기는한데.배달팁이 너무 부담스러워요. 장기적으로 쓸때 이벤트나 다양...</td>\n",
       "    </tr>\n",
       "  </tbody>\n",
       "</table>\n",
       "<p>200 rows × 4 columns</p>\n",
       "</div>"
      ],
      "text/plain": [
       "    customer_id star    enroll_date  \\\n",
       "0          H프랭크    1   2025년 5월 30일   \n",
       "1            삐삠    1    2025년 3월 9일   \n",
       "2    Hye ju Lee    1   2024년 12월 8일   \n",
       "3            핑크    1   2025년 7월 19일   \n",
       "4           남규범    1   2025년 7월 13일   \n",
       "..          ...  ...            ...   \n",
       "195  Google 사용자    1   2019년 2월 25일   \n",
       "196     sho_Ony    1   2020년 9월 14일   \n",
       "197  Google 사용자    1    2019년 4월 7일   \n",
       "198  Google 사용자    1   2019년 9월 21일   \n",
       "199  Google 사용자    1  2019년 11월 26일   \n",
       "\n",
       "                                               content  \n",
       "0    장바구니를 확인하려고 하는데 로딩만 하다가 '화면을 불러오지 못했어요' 라는 메세지...  \n",
       "1    음식배달 탭 대신 가게배달 탭을 쓰던 이유가 리뷰 볼 수 있고(가게의 위생, 맛, ...  \n",
       "2    찜목록 편집기능좀 넣어주세요 코로나기간에 찝한 200개 하나하나 들어가서 해제해야해...  \n",
       "3    나쁘진 않은데 찜 내역에서 가게나 장보기내역 삭제하려면 하나하나 클릭해 들어가서 찜...  \n",
       "4    원래 이런거 잘 안쓰는데 짜증나서 쓰고 깁니다. 주소가 잘못 기입되서 주문취소 하는...  \n",
       "..                                                 ...  \n",
       "195  맛집 동네 검색 있음 좋겠음 메뉴 종류 선택 장애 들을 위해서요 글이 잘못 전달 된...  \n",
       "196  메인에서 카테고리로 진입하면 텅 비어있거나 몇 안되는데, 검색하기로 찾으면 나오는 ...  \n",
       "197  메뉴 이름으로 검색 안 되고 가게 상호명만 검색할 수 있는거 너무 불편해요. 그리고...  \n",
       "198  오랫동안 애용중인 배민인입니다^^ 매장도 계속 추가되고 다양한 음식이 많아져서 정말...  \n",
       "199  많이쓰다보니 편하기는한데.배달팁이 너무 부담스러워요. 장기적으로 쓸때 이벤트나 다양...  \n",
       "\n",
       "[200 rows x 4 columns]"
      ]
     },
     "execution_count": 60,
     "metadata": {},
     "output_type": "execute_result"
    }
   ],
   "source": [
    "reviews_data_list = []\n",
    "\n",
    "for review in reviews_area :\n",
    "    reviews_dict = {}\n",
    "\n",
    "    customer_id = review.find_element(By.CLASS_NAME, \"X5PpBb\").text\n",
    "    star = review.find_element(By.CLASS_NAME, \"F7XJmb\").get_attribute(\"data-number\")\n",
    "    enroll_date = review.find_element(By.CLASS_NAME, \"bp9Aid\").text\n",
    "    content = review.find_element(By.CLASS_NAME, \"h3YV2d\").text\n",
    "\n",
    "    reviews_dict[\"customer_id\"] = customer_id\n",
    "    reviews_dict[\"star\"] = star\n",
    "    reviews_dict[\"enroll_date\"] = enroll_date\n",
    "    reviews_dict[\"content\"] = content\n",
    "\n",
    "    reviews_data_list.append(reviews_dict)\n",
    "\n",
    "reviews_data_frame = pd.DataFrame(reviews_data_list)\n",
    "reviews_data_frame"
   ]
  },
  {
   "cell_type": "code",
   "execution_count": 61,
   "id": "2bedbdd0",
   "metadata": {},
   "outputs": [],
   "source": [
    "reviews_data_frame.to_csv(\"data/배달의민족댓글_selenium.csv\")"
   ]
  }
 ],
 "metadata": {
  "kernelspec": {
   "display_name": "myproject",
   "language": "python",
   "name": "python3"
  },
  "language_info": {
   "codemirror_mode": {
    "name": "ipython",
    "version": 3
   },
   "file_extension": ".py",
   "mimetype": "text/x-python",
   "name": "python",
   "nbconvert_exporter": "python",
   "pygments_lexer": "ipython3",
   "version": "3.10.18"
  }
 },
 "nbformat": 4,
 "nbformat_minor": 5
}
